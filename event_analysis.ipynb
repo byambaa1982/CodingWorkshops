{
  "nbformat": 4,
  "nbformat_minor": 0,
  "metadata": {
    "colab": {
      "name": "event_analysis.ipynb",
      "version": "0.3.2",
      "provenance": [],
      "collapsed_sections": [],
      "toc_visible": true,
      "include_colab_link": true
    },
    "kernelspec": {
      "name": "python3",
      "display_name": "Python 3"
    }
  },
  "cells": [
    {
      "cell_type": "markdown",
      "metadata": {
        "id": "view-in-github",
        "colab_type": "text"
      },
      "source": [
        "<a href=\"https://colab.research.google.com/github/byambaa1982/CodingWorkshops/blob/master/event_analysis.ipynb\" target=\"_parent\"><img src=\"https://colab.research.google.com/assets/colab-badge.svg\" alt=\"Open In Colab\"/></a>"
      ]
    },
    {
      "cell_type": "code",
      "metadata": {
        "id": "nqIHVZjLL0rU",
        "colab_type": "code",
        "colab": {}
      },
      "source": [
        "import pandas as pd\n",
        "import numpy as np\n",
        "import re\n",
        "import matplotlib\n",
        "import matplotlib.pyplot as plt\n",
        "import seaborn as sns"
      ],
      "execution_count": 0,
      "outputs": []
    },
    {
      "cell_type": "markdown",
      "metadata": {
        "id": "IUp3INvWmmsC",
        "colab_type": "text"
      },
      "source": [
        "## Read data here. Upload data in same directory. \n"
      ]
    },
    {
      "cell_type": "code",
      "metadata": {
        "id": "tXW2NJmYMbtf",
        "colab_type": "code",
        "colab": {}
      },
      "source": [
        "data = pd.read_csv('/billieconcert.csv')"
      ],
      "execution_count": 0,
      "outputs": []
    },
    {
      "cell_type": "markdown",
      "metadata": {
        "id": "g-IINjhMm1bu",
        "colab_type": "text"
      },
      "source": [
        "## See how many columns and rows here"
      ]
    },
    {
      "cell_type": "code",
      "metadata": {
        "id": "eJnzHpWTNG2w",
        "colab_type": "code",
        "outputId": "753bad73-dd4e-400d-df42-4f7c2889c46a",
        "colab": {
          "base_uri": "https://localhost:8080/",
          "height": 34
        }
      },
      "source": [
        "data.shape"
      ],
      "execution_count": 116,
      "outputs": [
        {
          "output_type": "execute_result",
          "data": {
            "text/plain": [
              "(910, 9)"
            ]
          },
          "metadata": {
            "tags": []
          },
          "execution_count": 116
        }
      ]
    },
    {
      "cell_type": "markdown",
      "metadata": {
        "id": "tyQY28tcnAC3",
        "colab_type": "text"
      },
      "source": [
        "## Just see the first five rows"
      ]
    },
    {
      "cell_type": "code",
      "metadata": {
        "id": "wcLWyoDcPJXU",
        "colab_type": "code",
        "outputId": "489b0ec7-a2e6-4081-ec6a-fc66f4845163",
        "colab": {
          "base_uri": "https://localhost:8080/",
          "height": 204
        }
      },
      "source": [
        "data.head()"
      ],
      "execution_count": 117,
      "outputs": [
        {
          "output_type": "execute_result",
          "data": {
            "text/html": [
              "<div>\n",
              "<style scoped>\n",
              "    .dataframe tbody tr th:only-of-type {\n",
              "        vertical-align: middle;\n",
              "    }\n",
              "\n",
              "    .dataframe tbody tr th {\n",
              "        vertical-align: top;\n",
              "    }\n",
              "\n",
              "    .dataframe thead th {\n",
              "        text-align: right;\n",
              "    }\n",
              "</style>\n",
              "<table border=\"1\" class=\"dataframe\">\n",
              "  <thead>\n",
              "    <tr style=\"text-align: right;\">\n",
              "      <th></th>\n",
              "      <th>Event</th>\n",
              "      <th>Venue</th>\n",
              "      <th>Event date</th>\n",
              "      <th>Zone</th>\n",
              "      <th>Section</th>\n",
              "      <th>Price</th>\n",
              "      <th>Row</th>\n",
              "      <th>Qty</th>\n",
              "      <th>Date sold</th>\n",
              "    </tr>\n",
              "  </thead>\n",
              "  <tbody>\n",
              "    <tr>\n",
              "      <th>0</th>\n",
              "      <td>Billie Eilish</td>\n",
              "      <td>Greek Theatre Los Angeles</td>\n",
              "      <td>2019/07/11 19:00:00</td>\n",
              "      <td>NaN</td>\n",
              "      <td>B Center</td>\n",
              "      <td>617.81</td>\n",
              "      <td>S</td>\n",
              "      <td>4</td>\n",
              "      <td>2019/02/05 10:09:33</td>\n",
              "    </tr>\n",
              "    <tr>\n",
              "      <th>1</th>\n",
              "      <td>Billie Eilish</td>\n",
              "      <td>Greek Theatre Los Angeles</td>\n",
              "      <td>2019/07/11 19:00:00</td>\n",
              "      <td>NaN</td>\n",
              "      <td>Reserve C Sides</td>\n",
              "      <td>345.77</td>\n",
              "      <td>V</td>\n",
              "      <td>2</td>\n",
              "      <td>2019/02/05 09:30:39</td>\n",
              "    </tr>\n",
              "    <tr>\n",
              "      <th>2</th>\n",
              "      <td>Billie Eilish</td>\n",
              "      <td>Greek Theatre Los Angeles</td>\n",
              "      <td>2019/07/11 19:00:00</td>\n",
              "      <td>NaN</td>\n",
              "      <td>Reserve A Center</td>\n",
              "      <td>459.87</td>\n",
              "      <td>Q</td>\n",
              "      <td>3</td>\n",
              "      <td>2019/02/07 21:45:23</td>\n",
              "    </tr>\n",
              "    <tr>\n",
              "      <th>3</th>\n",
              "      <td>Billie Eilish</td>\n",
              "      <td>Greek Theatre Los Angeles</td>\n",
              "      <td>2019/07/11 19:00:00</td>\n",
              "      <td>NaN</td>\n",
              "      <td>Reserve B Center</td>\n",
              "      <td>218.29</td>\n",
              "      <td>K</td>\n",
              "      <td>2</td>\n",
              "      <td>2019/02/07 21:29:08</td>\n",
              "    </tr>\n",
              "    <tr>\n",
              "      <th>4</th>\n",
              "      <td>Billie Eilish</td>\n",
              "      <td>Greek Theatre Los Angeles</td>\n",
              "      <td>2019/07/11 19:00:00</td>\n",
              "      <td>NaN</td>\n",
              "      <td>Benches</td>\n",
              "      <td>114.75</td>\n",
              "      <td>C</td>\n",
              "      <td>2</td>\n",
              "      <td>2019/02/07 20:31:02</td>\n",
              "    </tr>\n",
              "  </tbody>\n",
              "</table>\n",
              "</div>"
            ],
            "text/plain": [
              "           Event                      Venue  ... Qty            Date sold\n",
              "0  Billie Eilish  Greek Theatre Los Angeles  ...   4  2019/02/05 10:09:33\n",
              "1  Billie Eilish  Greek Theatre Los Angeles  ...   2  2019/02/05 09:30:39\n",
              "2  Billie Eilish  Greek Theatre Los Angeles  ...   3  2019/02/07 21:45:23\n",
              "3  Billie Eilish  Greek Theatre Los Angeles  ...   2  2019/02/07 21:29:08\n",
              "4  Billie Eilish  Greek Theatre Los Angeles  ...   2  2019/02/07 20:31:02\n",
              "\n",
              "[5 rows x 9 columns]"
            ]
          },
          "metadata": {
            "tags": []
          },
          "execution_count": 117
        }
      ]
    },
    {
      "cell_type": "markdown",
      "metadata": {
        "id": "Rax2OnnZnK-q",
        "colab_type": "text"
      },
      "source": [
        "## We need only \"Section\", \"Price\" and  \"Date sold\" features. \n",
        "## Let's make a new dataframe on those"
      ]
    },
    {
      "cell_type": "code",
      "metadata": {
        "id": "VoG13A3EPLsD",
        "colab_type": "code",
        "colab": {}
      },
      "source": [
        "df =data[4:]"
      ],
      "execution_count": 0,
      "outputs": []
    },
    {
      "cell_type": "code",
      "metadata": {
        "id": "a980ajqlPoSi",
        "colab_type": "code",
        "colab": {}
      },
      "source": [
        "df=data[['Section', 'Price','Date sold']]\n",
        "df=df.sort_values(by='Price', ascending=False)"
      ],
      "execution_count": 0,
      "outputs": []
    },
    {
      "cell_type": "code",
      "metadata": {
        "id": "4eJiVKsoPqGK",
        "colab_type": "code",
        "outputId": "30368a9a-2dca-4864-b961-0d6f4f519838",
        "colab": {
          "base_uri": "https://localhost:8080/",
          "height": 204
        }
      },
      "source": [
        "df.head()"
      ],
      "execution_count": 120,
      "outputs": [
        {
          "output_type": "execute_result",
          "data": {
            "text/html": [
              "<div>\n",
              "<style scoped>\n",
              "    .dataframe tbody tr th:only-of-type {\n",
              "        vertical-align: middle;\n",
              "    }\n",
              "\n",
              "    .dataframe tbody tr th {\n",
              "        vertical-align: top;\n",
              "    }\n",
              "\n",
              "    .dataframe thead th {\n",
              "        text-align: right;\n",
              "    }\n",
              "</style>\n",
              "<table border=\"1\" class=\"dataframe\">\n",
              "  <thead>\n",
              "    <tr style=\"text-align: right;\">\n",
              "      <th></th>\n",
              "      <th>Section</th>\n",
              "      <th>Price</th>\n",
              "      <th>Date sold</th>\n",
              "    </tr>\n",
              "  </thead>\n",
              "  <tbody>\n",
              "    <tr>\n",
              "      <th>869</th>\n",
              "      <td>Reserve A Center</td>\n",
              "      <td>2182.38</td>\n",
              "      <td>2019/07/09 20:47:25</td>\n",
              "    </tr>\n",
              "    <tr>\n",
              "      <th>663</th>\n",
              "      <td>Reserve A Center</td>\n",
              "      <td>1498.00</td>\n",
              "      <td>2019/05/04 21:55:00</td>\n",
              "    </tr>\n",
              "    <tr>\n",
              "      <th>686</th>\n",
              "      <td>Reserve A Center</td>\n",
              "      <td>1495.00</td>\n",
              "      <td>2019/05/13 21:15:27</td>\n",
              "    </tr>\n",
              "    <tr>\n",
              "      <th>675</th>\n",
              "      <td>Reserve A Center</td>\n",
              "      <td>1495.00</td>\n",
              "      <td>2019/05/11 12:49:36</td>\n",
              "    </tr>\n",
              "    <tr>\n",
              "      <th>871</th>\n",
              "      <td>Reserve A Sides</td>\n",
              "      <td>1439.00</td>\n",
              "      <td>2019/07/09 19:28:30</td>\n",
              "    </tr>\n",
              "  </tbody>\n",
              "</table>\n",
              "</div>"
            ],
            "text/plain": [
              "              Section    Price            Date sold\n",
              "869  Reserve A Center  2182.38  2019/07/09 20:47:25\n",
              "663  Reserve A Center  1498.00  2019/05/04 21:55:00\n",
              "686  Reserve A Center  1495.00  2019/05/13 21:15:27\n",
              "675  Reserve A Center  1495.00  2019/05/11 12:49:36\n",
              "871   Reserve A Sides  1439.00  2019/07/09 19:28:30"
            ]
          },
          "metadata": {
            "tags": []
          },
          "execution_count": 120
        }
      ]
    },
    {
      "cell_type": "markdown",
      "metadata": {
        "id": "sTv-ebcmoCEZ",
        "colab_type": "text"
      },
      "source": [
        "## Split \"Date sold\" into \"date\" and \"time\""
      ]
    },
    {
      "cell_type": "code",
      "metadata": {
        "id": "9gpzSGj9Rt1-",
        "colab_type": "code",
        "colab": {}
      },
      "source": [
        "df['splitted']=df[df.columns[2]].map(lambda x:x.split(' '))\n",
        "df['date']=df['splitted'].map(lambda x:x[0])\n",
        "df['time']=df['splitted'].map(lambda x:x[1])"
      ],
      "execution_count": 0,
      "outputs": []
    },
    {
      "cell_type": "markdown",
      "metadata": {
        "id": "DcD4-Db8o_LH",
        "colab_type": "text"
      },
      "source": [
        "## Let's see our new dataframe"
      ]
    },
    {
      "cell_type": "code",
      "metadata": {
        "id": "MH3jD8LEpEjy",
        "colab_type": "code",
        "outputId": "69eb70b4-2c6c-423a-92cc-499199cd7e18",
        "colab": {
          "base_uri": "https://localhost:8080/",
          "height": 204
        }
      },
      "source": [
        "df.head()"
      ],
      "execution_count": 122,
      "outputs": [
        {
          "output_type": "execute_result",
          "data": {
            "text/html": [
              "<div>\n",
              "<style scoped>\n",
              "    .dataframe tbody tr th:only-of-type {\n",
              "        vertical-align: middle;\n",
              "    }\n",
              "\n",
              "    .dataframe tbody tr th {\n",
              "        vertical-align: top;\n",
              "    }\n",
              "\n",
              "    .dataframe thead th {\n",
              "        text-align: right;\n",
              "    }\n",
              "</style>\n",
              "<table border=\"1\" class=\"dataframe\">\n",
              "  <thead>\n",
              "    <tr style=\"text-align: right;\">\n",
              "      <th></th>\n",
              "      <th>Section</th>\n",
              "      <th>Price</th>\n",
              "      <th>Date sold</th>\n",
              "      <th>splitted</th>\n",
              "      <th>date</th>\n",
              "      <th>time</th>\n",
              "    </tr>\n",
              "  </thead>\n",
              "  <tbody>\n",
              "    <tr>\n",
              "      <th>869</th>\n",
              "      <td>Reserve A Center</td>\n",
              "      <td>2182.38</td>\n",
              "      <td>2019/07/09 20:47:25</td>\n",
              "      <td>[2019/07/09, 20:47:25]</td>\n",
              "      <td>2019/07/09</td>\n",
              "      <td>20:47:25</td>\n",
              "    </tr>\n",
              "    <tr>\n",
              "      <th>663</th>\n",
              "      <td>Reserve A Center</td>\n",
              "      <td>1498.00</td>\n",
              "      <td>2019/05/04 21:55:00</td>\n",
              "      <td>[2019/05/04, 21:55:00]</td>\n",
              "      <td>2019/05/04</td>\n",
              "      <td>21:55:00</td>\n",
              "    </tr>\n",
              "    <tr>\n",
              "      <th>686</th>\n",
              "      <td>Reserve A Center</td>\n",
              "      <td>1495.00</td>\n",
              "      <td>2019/05/13 21:15:27</td>\n",
              "      <td>[2019/05/13, 21:15:27]</td>\n",
              "      <td>2019/05/13</td>\n",
              "      <td>21:15:27</td>\n",
              "    </tr>\n",
              "    <tr>\n",
              "      <th>675</th>\n",
              "      <td>Reserve A Center</td>\n",
              "      <td>1495.00</td>\n",
              "      <td>2019/05/11 12:49:36</td>\n",
              "      <td>[2019/05/11, 12:49:36]</td>\n",
              "      <td>2019/05/11</td>\n",
              "      <td>12:49:36</td>\n",
              "    </tr>\n",
              "    <tr>\n",
              "      <th>871</th>\n",
              "      <td>Reserve A Sides</td>\n",
              "      <td>1439.00</td>\n",
              "      <td>2019/07/09 19:28:30</td>\n",
              "      <td>[2019/07/09, 19:28:30]</td>\n",
              "      <td>2019/07/09</td>\n",
              "      <td>19:28:30</td>\n",
              "    </tr>\n",
              "  </tbody>\n",
              "</table>\n",
              "</div>"
            ],
            "text/plain": [
              "              Section    Price  ...        date      time\n",
              "869  Reserve A Center  2182.38  ...  2019/07/09  20:47:25\n",
              "663  Reserve A Center  1498.00  ...  2019/05/04  21:55:00\n",
              "686  Reserve A Center  1495.00  ...  2019/05/13  21:15:27\n",
              "675  Reserve A Center  1495.00  ...  2019/05/11  12:49:36\n",
              "871   Reserve A Sides  1439.00  ...  2019/07/09  19:28:30\n",
              "\n",
              "[5 rows x 6 columns]"
            ]
          },
          "metadata": {
            "tags": []
          },
          "execution_count": 122
        }
      ]
    },
    {
      "cell_type": "markdown",
      "metadata": {
        "id": "xN30GjHApvqY",
        "colab_type": "text"
      },
      "source": [
        "## What sections in the venue did the highest value of sales?\n",
        "## Let's groupby \"Section\" and sort it by price values"
      ]
    },
    {
      "cell_type": "code",
      "metadata": {
        "id": "7PhnT2awp492",
        "colab_type": "code",
        "colab": {}
      },
      "source": [
        "df_sec=df.groupby(['Section']).sum()"
      ],
      "execution_count": 0,
      "outputs": []
    },
    {
      "cell_type": "code",
      "metadata": {
        "id": "kiEJg2uHqDhD",
        "colab_type": "code",
        "outputId": "84d46194-615a-433c-a896-7840668f6e74",
        "colab": {
          "base_uri": "https://localhost:8080/",
          "height": 1000
        }
      },
      "source": [
        "df_sec.sort_values(by='Price', ascending=False)"
      ],
      "execution_count": 125,
      "outputs": [
        {
          "output_type": "execute_result",
          "data": {
            "text/html": [
              "<div>\n",
              "<style scoped>\n",
              "    .dataframe tbody tr th:only-of-type {\n",
              "        vertical-align: middle;\n",
              "    }\n",
              "\n",
              "    .dataframe tbody tr th {\n",
              "        vertical-align: top;\n",
              "    }\n",
              "\n",
              "    .dataframe thead th {\n",
              "        text-align: right;\n",
              "    }\n",
              "</style>\n",
              "<table border=\"1\" class=\"dataframe\">\n",
              "  <thead>\n",
              "    <tr style=\"text-align: right;\">\n",
              "      <th></th>\n",
              "      <th>Price</th>\n",
              "    </tr>\n",
              "    <tr>\n",
              "      <th>Section</th>\n",
              "      <th></th>\n",
              "    </tr>\n",
              "  </thead>\n",
              "  <tbody>\n",
              "    <tr>\n",
              "      <th>Terrace</th>\n",
              "      <td>42761.17</td>\n",
              "    </tr>\n",
              "    <tr>\n",
              "      <th>Reserve A Sides</th>\n",
              "      <td>41561.58</td>\n",
              "    </tr>\n",
              "    <tr>\n",
              "      <th>Reserve B Center</th>\n",
              "      <td>39446.88</td>\n",
              "    </tr>\n",
              "    <tr>\n",
              "      <th>Reserve A Center</th>\n",
              "      <td>30562.42</td>\n",
              "    </tr>\n",
              "    <tr>\n",
              "      <th>Reserve B Sides</th>\n",
              "      <td>26872.98</td>\n",
              "    </tr>\n",
              "    <tr>\n",
              "      <th>Reserve C Sides</th>\n",
              "      <td>26066.73</td>\n",
              "    </tr>\n",
              "    <tr>\n",
              "      <th>Pit General Admission</th>\n",
              "      <td>23143.76</td>\n",
              "    </tr>\n",
              "    <tr>\n",
              "      <th>Reserve C Center</th>\n",
              "      <td>15798.00</td>\n",
              "    </tr>\n",
              "    <tr>\n",
              "      <th>Benches</th>\n",
              "      <td>10110.10</td>\n",
              "    </tr>\n",
              "    <tr>\n",
              "      <th>Section B Left</th>\n",
              "      <td>3337.38</td>\n",
              "    </tr>\n",
              "    <tr>\n",
              "      <th>VIP Box</th>\n",
              "      <td>2044.49</td>\n",
              "    </tr>\n",
              "    <tr>\n",
              "      <th>Section B Right Center</th>\n",
              "      <td>1766.15</td>\n",
              "    </tr>\n",
              "    <tr>\n",
              "      <th>Section C Right</th>\n",
              "      <td>1723.99</td>\n",
              "    </tr>\n",
              "    <tr>\n",
              "      <th>Section C Left Center</th>\n",
              "      <td>1371.74</td>\n",
              "    </tr>\n",
              "    <tr>\n",
              "      <th>Section C Right Center</th>\n",
              "      <td>1295.55</td>\n",
              "    </tr>\n",
              "    <tr>\n",
              "      <th>B Center</th>\n",
              "      <td>1116.81</td>\n",
              "    </tr>\n",
              "    <tr>\n",
              "      <th>North Terrace</th>\n",
              "      <td>1094.90</td>\n",
              "    </tr>\n",
              "    <tr>\n",
              "      <th>Bench Right</th>\n",
              "      <td>953.55</td>\n",
              "    </tr>\n",
              "    <tr>\n",
              "      <th>Section B Right</th>\n",
              "      <td>882.50</td>\n",
              "    </tr>\n",
              "    <tr>\n",
              "      <th>GA PIT</th>\n",
              "      <td>850.00</td>\n",
              "    </tr>\n",
              "    <tr>\n",
              "      <th>South Terrace</th>\n",
              "      <td>719.98</td>\n",
              "    </tr>\n",
              "    <tr>\n",
              "      <th>A</th>\n",
              "      <td>672.37</td>\n",
              "    </tr>\n",
              "    <tr>\n",
              "      <th>S Terrace R3</th>\n",
              "      <td>670.20</td>\n",
              "    </tr>\n",
              "    <tr>\n",
              "      <th>South Terrace Right 2</th>\n",
              "      <td>667.89</td>\n",
              "    </tr>\n",
              "    <tr>\n",
              "      <th>A CENTER</th>\n",
              "      <td>663.41</td>\n",
              "    </tr>\n",
              "    <tr>\n",
              "      <th>Bench Left</th>\n",
              "      <td>621.97</td>\n",
              "    </tr>\n",
              "    <tr>\n",
              "      <th>Elite Seats</th>\n",
              "      <td>550.00</td>\n",
              "    </tr>\n",
              "    <tr>\n",
              "      <th>BL</th>\n",
              "      <td>498.96</td>\n",
              "    </tr>\n",
              "    <tr>\n",
              "      <th>North Terrace Right 1</th>\n",
              "      <td>480.86</td>\n",
              "    </tr>\n",
              "    <tr>\n",
              "      <th>Section C Left</th>\n",
              "      <td>455.00</td>\n",
              "    </tr>\n",
              "    <tr>\n",
              "      <th>AL</th>\n",
              "      <td>447.40</td>\n",
              "    </tr>\n",
              "    <tr>\n",
              "      <th>North Terrace Right 2</th>\n",
              "      <td>445.54</td>\n",
              "    </tr>\n",
              "    <tr>\n",
              "      <th>Reserved B Center</th>\n",
              "      <td>384.54</td>\n",
              "    </tr>\n",
              "    <tr>\n",
              "      <th>A Center</th>\n",
              "      <td>375.00</td>\n",
              "    </tr>\n",
              "    <tr>\n",
              "      <th>Reserved B Sides</th>\n",
              "      <td>357.58</td>\n",
              "    </tr>\n",
              "    <tr>\n",
              "      <th>N Terrace R2</th>\n",
              "      <td>328.36</td>\n",
              "    </tr>\n",
              "    <tr>\n",
              "      <th>N TERR R2</th>\n",
              "      <td>298.40</td>\n",
              "    </tr>\n",
              "    <tr>\n",
              "      <th>North Terrace Right 3</th>\n",
              "      <td>289.91</td>\n",
              "    </tr>\n",
              "    <tr>\n",
              "      <th>N TERRACE L1</th>\n",
              "      <td>261.38</td>\n",
              "    </tr>\n",
              "    <tr>\n",
              "      <th>South Terrace Right 1</th>\n",
              "      <td>172.00</td>\n",
              "    </tr>\n",
              "  </tbody>\n",
              "</table>\n",
              "</div>"
            ],
            "text/plain": [
              "                           Price\n",
              "Section                         \n",
              "Terrace                 42761.17\n",
              "Reserve A Sides         41561.58\n",
              "Reserve B Center        39446.88\n",
              "Reserve A Center        30562.42\n",
              "Reserve B Sides         26872.98\n",
              "Reserve C Sides         26066.73\n",
              "Pit General Admission   23143.76\n",
              "Reserve C Center        15798.00\n",
              "Benches                 10110.10\n",
              "Section B Left           3337.38\n",
              "VIP Box                  2044.49\n",
              "Section B Right Center   1766.15\n",
              "Section C Right          1723.99\n",
              "Section C Left Center    1371.74\n",
              "Section C Right Center   1295.55\n",
              "B Center                 1116.81\n",
              "North Terrace            1094.90\n",
              "Bench Right               953.55\n",
              "Section B Right           882.50\n",
              "GA PIT                    850.00\n",
              "South Terrace             719.98\n",
              "A                         672.37\n",
              "S Terrace R3              670.20\n",
              "South Terrace Right 2     667.89\n",
              "A CENTER                  663.41\n",
              "Bench Left                621.97\n",
              "Elite Seats               550.00\n",
              "BL                        498.96\n",
              "North Terrace Right 1     480.86\n",
              "Section C Left            455.00\n",
              "AL                        447.40\n",
              "North Terrace Right 2     445.54\n",
              "Reserved B Center         384.54\n",
              "A Center                  375.00\n",
              "Reserved B Sides          357.58\n",
              "N Terrace R2              328.36\n",
              "N TERR R2                 298.40\n",
              "North Terrace Right 3     289.91\n",
              "N TERRACE L1              261.38\n",
              "South Terrace Right 1     172.00"
            ]
          },
          "metadata": {
            "tags": []
          },
          "execution_count": 125
        }
      ]
    },
    {
      "cell_type": "code",
      "metadata": {
        "id": "J3HgkOCQtIwX",
        "colab_type": "code",
        "colab": {}
      },
      "source": [
        "def barplot(x_data, y_data, x_label=\"\", y_label=\"\", title=\"\"):\n",
        "    _, ax = plt.subplots(figsize=(15, 8))\n",
        "    # Draw bars, position them in the center of the tick mark on the x-axis\n",
        "    ax.bar(x_data, y_data, color = '#539caf', align = 'center')\n",
        "    # Draw error bars to show standard deviation, set ls to 'none'\n",
        "    # to remove line between points\n",
        "    ax.errorbar(x_data, y_data, color = '#297083', ls = 'none', lw = 2, capthick = 2)\n",
        "    ax.set_ylabel(y_label, fontsize=16)\n",
        "    ax.set_xlabel(x_label,fontsize=16)\n",
        "    ax.set_title(title, fontsize=20, pad=30)\n",
        "    plt.xticks(x_data, labels=x_data, rotation='vertical')"
      ],
      "execution_count": 0,
      "outputs": []
    },
    {
      "cell_type": "markdown",
      "metadata": {
        "id": "Nh5qP6lJvETC",
        "colab_type": "text"
      },
      "source": [
        "#Bar plots are most effective when you are trying to visualize categorical data that has few (probably < 10) categories. If we have too many categories then the bars will be very cluttered in the figure and hard to understand."
      ]
    },
    {
      "cell_type": "code",
      "metadata": {
        "id": "EN3H9Gr_tOi5",
        "colab_type": "code",
        "outputId": "462fa11e-f0e7-4780-d9bc-18cf24e0f69d",
        "colab": {
          "base_uri": "https://localhost:8080/",
          "height": 650
        }
      },
      "source": [
        "barplot(df.Section, df.Price, x_label=\"Sections\", y_label=\"price\", title=\"What sections in the venue did the hightest value of sales?\" )"
      ],
      "execution_count": 127,
      "outputs": [
        {
          "output_type": "display_data",
          "data": {
            "image/png": "[encoded data removed]",
            "text/plain": [
              "<Figure size 1080x576 with 1 Axes>"
            ]
          },
          "metadata": {
            "tags": []
          }
        }
      ]
    },
    {
      "cell_type": "markdown",
      "metadata": {
        "id": "_nckgrnw5aNk",
        "colab_type": "text"
      },
      "source": [
        "## Top ten sections"
      ]
    },
    {
      "cell_type": "code",
      "metadata": {
        "id": "Y3LvE5yPvXXS",
        "colab_type": "code",
        "colab": {}
      },
      "source": [
        "viz=df_sec.sort_values(by='Price', ascending=False)\n",
        "viz=viz.head(10)"
      ],
      "execution_count": 0,
      "outputs": []
    },
    {
      "cell_type": "code",
      "metadata": {
        "id": "ry15jMWMvpKU",
        "colab_type": "code",
        "outputId": "d071c849-1def-4c5a-8be7-6e7388f72458",
        "colab": {
          "base_uri": "https://localhost:8080/",
          "height": 647
        }
      },
      "source": [
        "barplot(viz.index, viz.Price, x_label=\"Sections\", y_label=\"price\", title=\"What sections in the venue did the highest value of sales?\" )"
      ],
      "execution_count": 129,
      "outputs": [
        {
          "output_type": "display_data",
          "data": {
            "image/png": "[encoded data removed]",
            "text/plain": [
              "<Figure size 1080x576 with 1 Axes>"
            ]
          },
          "metadata": {
            "tags": []
          }
        }
      ]
    },
    {
      "cell_type": "markdown",
      "metadata": {
        "id": "GJIgpt5ErPxI",
        "colab_type": "text"
      },
      "source": [
        "##  When was the best time to sell the tickets?\n",
        "\n",
        "## Let's groupby \"Date\" and sort it by price values"
      ]
    },
    {
      "cell_type": "code",
      "metadata": {
        "id": "Mb3Y1FQvTuoL",
        "colab_type": "code",
        "outputId": "4235cd7f-6b1f-4cad-d877-90b3d293fcbe",
        "colab": {
          "base_uri": "https://localhost:8080/",
          "height": 1000
        }
      },
      "source": [
        "df_date=df.groupby(['date']).sum()\n",
        "df_date.sort_values(by='Price', ascending=False)"
      ],
      "execution_count": 88,
      "outputs": [
        {
          "output_type": "execute_result",
          "data": {
            "text/html": [
              "<div>\n",
              "<style scoped>\n",
              "    .dataframe tbody tr th:only-of-type {\n",
              "        vertical-align: middle;\n",
              "    }\n",
              "\n",
              "    .dataframe tbody tr th {\n",
              "        vertical-align: top;\n",
              "    }\n",
              "\n",
              "    .dataframe thead th {\n",
              "        text-align: right;\n",
              "    }\n",
              "</style>\n",
              "<table border=\"1\" class=\"dataframe\">\n",
              "  <thead>\n",
              "    <tr style=\"text-align: right;\">\n",
              "      <th></th>\n",
              "      <th>Price</th>\n",
              "    </tr>\n",
              "    <tr>\n",
              "      <th>date</th>\n",
              "      <th></th>\n",
              "    </tr>\n",
              "  </thead>\n",
              "  <tbody>\n",
              "    <tr>\n",
              "      <th>2019/02/08</th>\n",
              "      <td>37978.45</td>\n",
              "    </tr>\n",
              "    <tr>\n",
              "      <th>2019/02/07</th>\n",
              "      <td>15531.76</td>\n",
              "    </tr>\n",
              "    <tr>\n",
              "      <th>2019/07/10</th>\n",
              "      <td>13277.63</td>\n",
              "    </tr>\n",
              "    <tr>\n",
              "      <th>2019/07/09</th>\n",
              "      <td>10880.53</td>\n",
              "    </tr>\n",
              "    <tr>\n",
              "      <th>2019/02/09</th>\n",
              "      <td>7495.97</td>\n",
              "    </tr>\n",
              "    <tr>\n",
              "      <th>2019/07/08</th>\n",
              "      <td>6963.46</td>\n",
              "    </tr>\n",
              "    <tr>\n",
              "      <th>2019/07/03</th>\n",
              "      <td>4945.90</td>\n",
              "    </tr>\n",
              "    <tr>\n",
              "      <th>2019/06/24</th>\n",
              "      <td>4758.68</td>\n",
              "    </tr>\n",
              "    <tr>\n",
              "      <th>2019/05/07</th>\n",
              "      <td>4144.45</td>\n",
              "    </tr>\n",
              "    <tr>\n",
              "      <th>2019/07/05</th>\n",
              "      <td>3868.45</td>\n",
              "    </tr>\n",
              "    <tr>\n",
              "      <th>2019/05/01</th>\n",
              "      <td>3125.95</td>\n",
              "    </tr>\n",
              "    <tr>\n",
              "      <th>2019/04/22</th>\n",
              "      <td>3034.25</td>\n",
              "    </tr>\n",
              "    <tr>\n",
              "      <th>2019/03/20</th>\n",
              "      <td>2970.11</td>\n",
              "    </tr>\n",
              "    <tr>\n",
              "      <th>2019/06/27</th>\n",
              "      <td>2880.00</td>\n",
              "    </tr>\n",
              "    <tr>\n",
              "      <th>2019/05/14</th>\n",
              "      <td>2818.47</td>\n",
              "    </tr>\n",
              "    <tr>\n",
              "      <th>2019/06/01</th>\n",
              "      <td>2760.05</td>\n",
              "    </tr>\n",
              "    <tr>\n",
              "      <th>2019/03/30</th>\n",
              "      <td>2703.73</td>\n",
              "    </tr>\n",
              "    <tr>\n",
              "      <th>2019/02/12</th>\n",
              "      <td>2670.50</td>\n",
              "    </tr>\n",
              "    <tr>\n",
              "      <th>2019/05/31</th>\n",
              "      <td>2662.56</td>\n",
              "    </tr>\n",
              "    <tr>\n",
              "      <th>2019/06/15</th>\n",
              "      <td>2586.87</td>\n",
              "    </tr>\n",
              "    <tr>\n",
              "      <th>2019/05/15</th>\n",
              "      <td>2503.99</td>\n",
              "    </tr>\n",
              "    <tr>\n",
              "      <th>2019/06/28</th>\n",
              "      <td>2496.80</td>\n",
              "    </tr>\n",
              "    <tr>\n",
              "      <th>2019/06/14</th>\n",
              "      <td>2491.70</td>\n",
              "    </tr>\n",
              "    <tr>\n",
              "      <th>2019/06/18</th>\n",
              "      <td>2404.19</td>\n",
              "    </tr>\n",
              "    <tr>\n",
              "      <th>2019/02/14</th>\n",
              "      <td>2393.70</td>\n",
              "    </tr>\n",
              "    <tr>\n",
              "      <th>2019/04/15</th>\n",
              "      <td>2295.90</td>\n",
              "    </tr>\n",
              "    <tr>\n",
              "      <th>2019/06/06</th>\n",
              "      <td>2261.59</td>\n",
              "    </tr>\n",
              "    <tr>\n",
              "      <th>2019/05/13</th>\n",
              "      <td>2219.26</td>\n",
              "    </tr>\n",
              "    <tr>\n",
              "      <th>2019/02/17</th>\n",
              "      <td>2210.36</td>\n",
              "    </tr>\n",
              "    <tr>\n",
              "      <th>2019/06/21</th>\n",
              "      <td>2188.89</td>\n",
              "    </tr>\n",
              "    <tr>\n",
              "      <th>...</th>\n",
              "      <td>...</td>\n",
              "    </tr>\n",
              "    <tr>\n",
              "      <th>2019/03/27</th>\n",
              "      <td>570.61</td>\n",
              "    </tr>\n",
              "    <tr>\n",
              "      <th>2019/04/29</th>\n",
              "      <td>554.22</td>\n",
              "    </tr>\n",
              "    <tr>\n",
              "      <th>2019/02/24</th>\n",
              "      <td>551.99</td>\n",
              "    </tr>\n",
              "    <tr>\n",
              "      <th>2019/02/18</th>\n",
              "      <td>546.77</td>\n",
              "    </tr>\n",
              "    <tr>\n",
              "      <th>2019/04/24</th>\n",
              "      <td>533.00</td>\n",
              "    </tr>\n",
              "    <tr>\n",
              "      <th>2019/03/12</th>\n",
              "      <td>528.00</td>\n",
              "    </tr>\n",
              "    <tr>\n",
              "      <th>2019/03/05</th>\n",
              "      <td>523.25</td>\n",
              "    </tr>\n",
              "    <tr>\n",
              "      <th>2019/02/25</th>\n",
              "      <td>522.00</td>\n",
              "    </tr>\n",
              "    <tr>\n",
              "      <th>2019/03/24</th>\n",
              "      <td>511.75</td>\n",
              "    </tr>\n",
              "    <tr>\n",
              "      <th>2019/02/27</th>\n",
              "      <td>500.05</td>\n",
              "    </tr>\n",
              "    <tr>\n",
              "      <th>2019/03/14</th>\n",
              "      <td>489.00</td>\n",
              "    </tr>\n",
              "    <tr>\n",
              "      <th>2019/03/15</th>\n",
              "      <td>425.00</td>\n",
              "    </tr>\n",
              "    <tr>\n",
              "      <th>2019/03/04</th>\n",
              "      <td>412.00</td>\n",
              "    </tr>\n",
              "    <tr>\n",
              "      <th>2019/03/01</th>\n",
              "      <td>359.50</td>\n",
              "    </tr>\n",
              "    <tr>\n",
              "      <th>2019/06/11</th>\n",
              "      <td>356.90</td>\n",
              "    </tr>\n",
              "    <tr>\n",
              "      <th>2019/03/06</th>\n",
              "      <td>346.90</td>\n",
              "    </tr>\n",
              "    <tr>\n",
              "      <th>2019/06/02</th>\n",
              "      <td>336.80</td>\n",
              "    </tr>\n",
              "    <tr>\n",
              "      <th>2019/02/26</th>\n",
              "      <td>324.12</td>\n",
              "    </tr>\n",
              "    <tr>\n",
              "      <th>2019/03/21</th>\n",
              "      <td>317.00</td>\n",
              "    </tr>\n",
              "    <tr>\n",
              "      <th>2019/04/07</th>\n",
              "      <td>309.00</td>\n",
              "    </tr>\n",
              "    <tr>\n",
              "      <th>2019/03/16</th>\n",
              "      <td>300.00</td>\n",
              "    </tr>\n",
              "    <tr>\n",
              "      <th>2019/02/20</th>\n",
              "      <td>282.80</td>\n",
              "    </tr>\n",
              "    <tr>\n",
              "      <th>2019/04/17</th>\n",
              "      <td>279.00</td>\n",
              "    </tr>\n",
              "    <tr>\n",
              "      <th>2019/02/22</th>\n",
              "      <td>270.01</td>\n",
              "    </tr>\n",
              "    <tr>\n",
              "      <th>2019/02/28</th>\n",
              "      <td>262.00</td>\n",
              "    </tr>\n",
              "    <tr>\n",
              "      <th>2019/04/16</th>\n",
              "      <td>260.37</td>\n",
              "    </tr>\n",
              "    <tr>\n",
              "      <th>2019/03/26</th>\n",
              "      <td>155.00</td>\n",
              "    </tr>\n",
              "    <tr>\n",
              "      <th>2019/03/11</th>\n",
              "      <td>151.51</td>\n",
              "    </tr>\n",
              "    <tr>\n",
              "      <th>2019/03/23</th>\n",
              "      <td>149.00</td>\n",
              "    </tr>\n",
              "    <tr>\n",
              "      <th>2019/03/13</th>\n",
              "      <td>133.70</td>\n",
              "    </tr>\n",
              "  </tbody>\n",
              "</table>\n",
              "<p>146 rows × 1 columns</p>\n",
              "</div>"
            ],
            "text/plain": [
              "               Price\n",
              "date                \n",
              "2019/02/08  37978.45\n",
              "2019/02/07  15531.76\n",
              "2019/07/10  13277.63\n",
              "2019/07/09  10880.53\n",
              "2019/02/09   7495.97\n",
              "2019/07/08   6963.46\n",
              "2019/07/03   4945.90\n",
              "2019/06/24   4758.68\n",
              "2019/05/07   4144.45\n",
              "2019/07/05   3868.45\n",
              "2019/05/01   3125.95\n",
              "2019/04/22   3034.25\n",
              "2019/03/20   2970.11\n",
              "2019/06/27   2880.00\n",
              "2019/05/14   2818.47\n",
              "2019/06/01   2760.05\n",
              "2019/03/30   2703.73\n",
              "2019/02/12   2670.50\n",
              "2019/05/31   2662.56\n",
              "2019/06/15   2586.87\n",
              "2019/05/15   2503.99\n",
              "2019/06/28   2496.80\n",
              "2019/06/14   2491.70\n",
              "2019/06/18   2404.19\n",
              "2019/02/14   2393.70\n",
              "2019/04/15   2295.90\n",
              "2019/06/06   2261.59\n",
              "2019/05/13   2219.26\n",
              "2019/02/17   2210.36\n",
              "2019/06/21   2188.89\n",
              "...              ...\n",
              "2019/03/27    570.61\n",
              "2019/04/29    554.22\n",
              "2019/02/24    551.99\n",
              "2019/02/18    546.77\n",
              "2019/04/24    533.00\n",
              "2019/03/12    528.00\n",
              "2019/03/05    523.25\n",
              "2019/02/25    522.00\n",
              "2019/03/24    511.75\n",
              "2019/02/27    500.05\n",
              "2019/03/14    489.00\n",
              "2019/03/15    425.00\n",
              "2019/03/04    412.00\n",
              "2019/03/01    359.50\n",
              "2019/06/11    356.90\n",
              "2019/03/06    346.90\n",
              "2019/06/02    336.80\n",
              "2019/02/26    324.12\n",
              "2019/03/21    317.00\n",
              "2019/04/07    309.00\n",
              "2019/03/16    300.00\n",
              "2019/02/20    282.80\n",
              "2019/04/17    279.00\n",
              "2019/02/22    270.01\n",
              "2019/02/28    262.00\n",
              "2019/04/16    260.37\n",
              "2019/03/26    155.00\n",
              "2019/03/11    151.51\n",
              "2019/03/23    149.00\n",
              "2019/03/13    133.70\n",
              "\n",
              "[146 rows x 1 columns]"
            ]
          },
          "metadata": {
            "tags": []
          },
          "execution_count": 88
        }
      ]
    },
    {
      "cell_type": "code",
      "metadata": {
        "id": "o1aR7yPL89tR",
        "colab_type": "code",
        "colab": {}
      },
      "source": [
        ""
      ],
      "execution_count": 0,
      "outputs": []
    },
    {
      "cell_type": "markdown",
      "metadata": {
        "id": "H6kDOB1d8-I8",
        "colab_type": "text"
      },
      "source": [
        "## Top 10 dates"
      ]
    },
    {
      "cell_type": "code",
      "metadata": {
        "id": "Y8yaxhEYVDln",
        "colab_type": "code",
        "outputId": "13107b61-d6be-43d9-95a3-20283d5d3500",
        "colab": {
          "base_uri": "https://localhost:8080/",
          "height": 594
        }
      },
      "source": [
        "viz_date=df_date.sort_values(by='Price', ascending=False)\n",
        "viz_date=viz_date.head(10)\n",
        "barplot(viz_date.index, viz_date.Price, x_label=\"Sections\", y_label=\"price\", title=\"When was the best time to sell the tickets?\" )"
      ],
      "execution_count": 113,
      "outputs": [
        {
          "output_type": "display_data",
          "data": {
            "image/png": "[encoded data removed]",
            "text/plain": [
              "<Figure size 1080x576 with 1 Axes>"
            ]
          },
          "metadata": {
            "tags": []
          }
        }
      ]
    },
    {
      "cell_type": "markdown",
      "metadata": {
        "id": "n8u6hrWX9DWS",
        "colab_type": "text"
      },
      "source": [
        "## Top 15 dates"
      ]
    },
    {
      "cell_type": "code",
      "metadata": {
        "id": "Q5xHkfJd9JI4",
        "colab_type": "code",
        "outputId": "0111c5c9-b890-4a28-9249-2501d27223ca",
        "colab": {
          "base_uri": "https://localhost:8080/",
          "height": 594
        }
      },
      "source": [
        "viz_date=df_date.sort_values(by='Price', ascending=False)\n",
        "viz_date=viz_date.head(15)\n",
        "barplot(viz_date.index, viz_date.Price, x_label=\"Sections\", y_label=\"price\", title=\"When was the best time to sell the tickets?\" )"
      ],
      "execution_count": 100,
      "outputs": [
        {
          "output_type": "display_data",
          "data": {
            "image/png": "[encoded data removed]",
            "text/plain": [
              "<Figure size 1080x576 with 1 Axes>"
            ]
          },
          "metadata": {
            "tags": []
          }
        }
      ]
    },
    {
      "cell_type": "markdown",
      "metadata": {
        "id": "I7KQv0EQP0Dg",
        "colab_type": "text"
      },
      "source": [
        "## What sections in the venue did the best in terms of sales?\n"
      ]
    },
    {
      "cell_type": "markdown",
      "metadata": {
        "id": "HSe-0qsFUfTp",
        "colab_type": "text"
      },
      "source": [
        "## Average sale price per section"
      ]
    },
    {
      "cell_type": "code",
      "metadata": {
        "id": "igISDkBCSSjY",
        "colab_type": "code",
        "colab": {}
      },
      "source": [
        "df_mean=df.groupby(['Section']).mean()\n",
        "df_mean=df_mean.sort_values(by='Price', ascending=False)"
      ],
      "execution_count": 0,
      "outputs": []
    },
    {
      "cell_type": "code",
      "metadata": {
        "id": "jBTAW0tnSYKU",
        "colab_type": "code",
        "colab": {
          "base_uri": "https://localhost:8080/",
          "height": 235
        },
        "outputId": "57e84142-f84a-47cf-d0bd-333168312682"
      },
      "source": [
        "df_mean.head()"
      ],
      "execution_count": 138,
      "outputs": [
        {
          "output_type": "execute_result",
          "data": {
            "text/html": [
              "<div>\n",
              "<style scoped>\n",
              "    .dataframe tbody tr th:only-of-type {\n",
              "        vertical-align: middle;\n",
              "    }\n",
              "\n",
              "    .dataframe tbody tr th {\n",
              "        vertical-align: top;\n",
              "    }\n",
              "\n",
              "    .dataframe thead th {\n",
              "        text-align: right;\n",
              "    }\n",
              "</style>\n",
              "<table border=\"1\" class=\"dataframe\">\n",
              "  <thead>\n",
              "    <tr style=\"text-align: right;\">\n",
              "      <th></th>\n",
              "      <th>Price</th>\n",
              "    </tr>\n",
              "    <tr>\n",
              "      <th>Section</th>\n",
              "      <th></th>\n",
              "    </tr>\n",
              "  </thead>\n",
              "  <tbody>\n",
              "    <tr>\n",
              "      <th>Reserve A Center</th>\n",
              "      <td>694.600455</td>\n",
              "    </tr>\n",
              "    <tr>\n",
              "      <th>Pit General Admission</th>\n",
              "      <td>578.594000</td>\n",
              "    </tr>\n",
              "    <tr>\n",
              "      <th>B Center</th>\n",
              "      <td>558.405000</td>\n",
              "    </tr>\n",
              "    <tr>\n",
              "      <th>Section B Left</th>\n",
              "      <td>556.230000</td>\n",
              "    </tr>\n",
              "    <tr>\n",
              "      <th>Elite Seats</th>\n",
              "      <td>550.000000</td>\n",
              "    </tr>\n",
              "  </tbody>\n",
              "</table>\n",
              "</div>"
            ],
            "text/plain": [
              "                            Price\n",
              "Section                          \n",
              "Reserve A Center       694.600455\n",
              "Pit General Admission  578.594000\n",
              "B Center               558.405000\n",
              "Section B Left         556.230000\n",
              "Elite Seats            550.000000"
            ]
          },
          "metadata": {
            "tags": []
          },
          "execution_count": 138
        }
      ]
    },
    {
      "cell_type": "code",
      "metadata": {
        "id": "5GK9Mka0SaYW",
        "colab_type": "code",
        "colab": {
          "base_uri": "https://localhost:8080/",
          "height": 650
        },
        "outputId": "67ba4a57-e775-44fe-baf5-c48f635da9f7"
      },
      "source": [
        "barplot(df_mean.index, df_mean.Price, x_label=\"Sections\", y_label=\"price\", title=\"What sections in the venue did the hightest mean value of sales?\" )"
      ],
      "execution_count": 139,
      "outputs": [
        {
          "output_type": "display_data",
          "data": {
            "image/png": "[encoded data removed]",
            "text/plain": [
              "<Figure size 1080x576 with 1 Axes>"
            ]
          },
          "metadata": {
            "tags": []
          }
        }
      ]
    },
    {
      "cell_type": "code",
      "metadata": {
        "id": "gOar-M4RUvA9",
        "colab_type": "code",
        "colab": {
          "base_uri": "https://localhost:8080/",
          "height": 204
        },
        "outputId": "8b755427-8b34-40b3-abe9-0b78338aa36a"
      },
      "source": [
        "df=data[['Section', 'Qty','Date sold']]\n",
        "df=df.sort_values(by='Qty', ascending=False)\n",
        "df['splitted']=df[df.columns[2]].map(lambda x:x.split(' '))\n",
        "df['date']=df['splitted'].map(lambda x:x[0])\n",
        "df['time']=df['splitted'].map(lambda x:x[1])\n",
        "df.head()"
      ],
      "execution_count": 140,
      "outputs": [
        {
          "output_type": "execute_result",
          "data": {
            "text/html": [
              "<div>\n",
              "<style scoped>\n",
              "    .dataframe tbody tr th:only-of-type {\n",
              "        vertical-align: middle;\n",
              "    }\n",
              "\n",
              "    .dataframe tbody tr th {\n",
              "        vertical-align: top;\n",
              "    }\n",
              "\n",
              "    .dataframe thead th {\n",
              "        text-align: right;\n",
              "    }\n",
              "</style>\n",
              "<table border=\"1\" class=\"dataframe\">\n",
              "  <thead>\n",
              "    <tr style=\"text-align: right;\">\n",
              "      <th></th>\n",
              "      <th>Section</th>\n",
              "      <th>Qty</th>\n",
              "      <th>Date sold</th>\n",
              "      <th>splitted</th>\n",
              "      <th>date</th>\n",
              "      <th>time</th>\n",
              "    </tr>\n",
              "  </thead>\n",
              "  <tbody>\n",
              "    <tr>\n",
              "      <th>649</th>\n",
              "      <td>Reserve A Center</td>\n",
              "      <td>6</td>\n",
              "      <td>2019/04/30 12:43:23</td>\n",
              "      <td>[2019/04/30, 12:43:23]</td>\n",
              "      <td>2019/04/30</td>\n",
              "      <td>12:43:23</td>\n",
              "    </tr>\n",
              "    <tr>\n",
              "      <th>671</th>\n",
              "      <td>Reserve A Sides</td>\n",
              "      <td>6</td>\n",
              "      <td>2019/05/07 16:04:35</td>\n",
              "      <td>[2019/05/07, 16:04:35]</td>\n",
              "      <td>2019/05/07</td>\n",
              "      <td>16:04:35</td>\n",
              "    </tr>\n",
              "    <tr>\n",
              "      <th>234</th>\n",
              "      <td>VIP Box</td>\n",
              "      <td>6</td>\n",
              "      <td>2019/02/12 18:48:53</td>\n",
              "      <td>[2019/02/12, 18:48:53]</td>\n",
              "      <td>2019/02/12</td>\n",
              "      <td>18:48:53</td>\n",
              "    </tr>\n",
              "    <tr>\n",
              "      <th>196</th>\n",
              "      <td>Terrace</td>\n",
              "      <td>5</td>\n",
              "      <td>2019/02/17 18:34:14</td>\n",
              "      <td>[2019/02/17, 18:34:14]</td>\n",
              "      <td>2019/02/17</td>\n",
              "      <td>18:34:14</td>\n",
              "    </tr>\n",
              "    <tr>\n",
              "      <th>0</th>\n",
              "      <td>B Center</td>\n",
              "      <td>4</td>\n",
              "      <td>2019/02/05 10:09:33</td>\n",
              "      <td>[2019/02/05, 10:09:33]</td>\n",
              "      <td>2019/02/05</td>\n",
              "      <td>10:09:33</td>\n",
              "    </tr>\n",
              "  </tbody>\n",
              "</table>\n",
              "</div>"
            ],
            "text/plain": [
              "              Section  Qty  ...        date      time\n",
              "649  Reserve A Center    6  ...  2019/04/30  12:43:23\n",
              "671   Reserve A Sides    6  ...  2019/05/07  16:04:35\n",
              "234           VIP Box    6  ...  2019/02/12  18:48:53\n",
              "196           Terrace    5  ...  2019/02/17  18:34:14\n",
              "0            B Center    4  ...  2019/02/05  10:09:33\n",
              "\n",
              "[5 rows x 6 columns]"
            ]
          },
          "metadata": {
            "tags": []
          },
          "execution_count": 140
        }
      ]
    },
    {
      "cell_type": "code",
      "metadata": {
        "id": "gir8gpvOUvtx",
        "colab_type": "code",
        "colab": {
          "base_uri": "https://localhost:8080/",
          "height": 650
        },
        "outputId": "8df5c4d1-ede5-4653-fb1d-bfe4d12f6185"
      },
      "source": [
        "df_sec=df.groupby(['Section']).sum()\n",
        "df_sec=df_sec.sort_values(by='Qty', ascending=False)\n",
        "barplot(df_sec.index, df_sec.Qty, x_label=\"Sections\", y_label=\"Qty\", title=\"What sections in the venue did the best in terms of sales?\" )"
      ],
      "execution_count": 150,
      "outputs": [
        {
          "output_type": "display_data",
          "data": {
            "image/png": "[encoded data removed]",
            "text/plain": [
              "<Figure size 1080x576 with 1 Axes>"
            ]
          },
          "metadata": {
            "tags": []
          }
        }
      ]
    }
  ]
}