{
  "nbformat": 4,
  "nbformat_minor": 0,
  "metadata": {
    "colab": {
      "name": "event_analysis.ipynb",
      "version": "0.3.2",
      "provenance": [],
      "include_colab_link": true
    },
    "kernelspec": {
      "name": "python3",
      "display_name": "Python 3"
    }
  },
  "cells": [
    {
      "cell_type": "markdown",
      "metadata": {
        "id": "view-in-github",
        "colab_type": "text"
      },
      "source": [
        "<a href=\"https://colab.research.google.com/github/byambaa1982/CodingWorkshops/blob/master/event_analysis.ipynb\" target=\"_parent\"><img src=\"https://colab.research.google.com/assets/colab-badge.svg\" alt=\"Open In Colab\"/></a>"
      ]
    },
    {
      "cell_type": "code",
      "metadata": {
        "id": "nqIHVZjLL0rU",
        "colab_type": "code",
        "colab": {}
      },
      "source": [
        "import pandas as pd\n",
        "import numpy as np\n",
        "import re\n",
        "import matplotlib\n",
        "import matplotlib.pyplot as plt\n",
        "import seaborn as sns"
      ],
      "execution_count": 0,
      "outputs": []
    },
    {
      "cell_type": "code",
      "metadata": {
        "id": "tXW2NJmYMbtf",
        "colab_type": "code",
        "colab": {}
      },
      "source": [
        "data = pd.read_csv('/billieconcert.csv')"
      ],
      "execution_count": 0,
      "outputs": []
    },
    {
      "cell_type": "code",
      "metadata": {
        "id": "eJnzHpWTNG2w",
        "colab_type": "code",
        "colab": {
          "base_uri": "https://localhost:8080/",
          "height": 34
        },
        "outputId": "c248fa29-93fa-450c-a3a2-653e0184bcc1"
      },
      "source": [
        "data.shape"
      ],
      "execution_count": 9,
      "outputs": [
        {
          "output_type": "execute_result",
          "data": {
            "text/plain": [
              "(910, 9)"
            ]
          },
          "metadata": {
            "tags": []
          },
          "execution_count": 9
        }
      ]
    },
    {
      "cell_type": "code",
      "metadata": {
        "id": "wcLWyoDcPJXU",
        "colab_type": "code",
        "colab": {
          "base_uri": "https://localhost:8080/",
          "height": 204
        },
        "outputId": "62cf1d2a-e18d-4115-a1e1-1d39d9064675"
      },
      "source": [
        "data.head()"
      ],
      "execution_count": 10,
      "outputs": [
        {
          "output_type": "execute_result",
          "data": {
            "text/html": [
              "<div>\n",
              "<style scoped>\n",
              "    .dataframe tbody tr th:only-of-type {\n",
              "        vertical-align: middle;\n",
              "    }\n",
              "\n",
              "    .dataframe tbody tr th {\n",
              "        vertical-align: top;\n",
              "    }\n",
              "\n",
              "    .dataframe thead th {\n",
              "        text-align: right;\n",
              "    }\n",
              "</style>\n",
              "<table border=\"1\" class=\"dataframe\">\n",
              "  <thead>\n",
              "    <tr style=\"text-align: right;\">\n",
              "      <th></th>\n",
              "      <th>Event</th>\n",
              "      <th>Venue</th>\n",
              "      <th>Event date</th>\n",
              "      <th>Zone</th>\n",
              "      <th>Section</th>\n",
              "      <th>Price</th>\n",
              "      <th>Row</th>\n",
              "      <th>Qty</th>\n",
              "      <th>Date sold</th>\n",
              "    </tr>\n",
              "  </thead>\n",
              "  <tbody>\n",
              "    <tr>\n",
              "      <th>0</th>\n",
              "      <td>Billie Eilish</td>\n",
              "      <td>Greek Theatre Los Angeles</td>\n",
              "      <td>2019/07/11 19:00:00</td>\n",
              "      <td>NaN</td>\n",
              "      <td>B Center</td>\n",
              "      <td>617.81</td>\n",
              "      <td>S</td>\n",
              "      <td>4</td>\n",
              "      <td>2019/02/05 10:09:33</td>\n",
              "    </tr>\n",
              "    <tr>\n",
              "      <th>1</th>\n",
              "      <td>Billie Eilish</td>\n",
              "      <td>Greek Theatre Los Angeles</td>\n",
              "      <td>2019/07/11 19:00:00</td>\n",
              "      <td>NaN</td>\n",
              "      <td>Reserve C Sides</td>\n",
              "      <td>345.77</td>\n",
              "      <td>V</td>\n",
              "      <td>2</td>\n",
              "      <td>2019/02/05 09:30:39</td>\n",
              "    </tr>\n",
              "    <tr>\n",
              "      <th>2</th>\n",
              "      <td>Billie Eilish</td>\n",
              "      <td>Greek Theatre Los Angeles</td>\n",
              "      <td>2019/07/11 19:00:00</td>\n",
              "      <td>NaN</td>\n",
              "      <td>Reserve A Center</td>\n",
              "      <td>459.87</td>\n",
              "      <td>Q</td>\n",
              "      <td>3</td>\n",
              "      <td>2019/02/07 21:45:23</td>\n",
              "    </tr>\n",
              "    <tr>\n",
              "      <th>3</th>\n",
              "      <td>Billie Eilish</td>\n",
              "      <td>Greek Theatre Los Angeles</td>\n",
              "      <td>2019/07/11 19:00:00</td>\n",
              "      <td>NaN</td>\n",
              "      <td>Reserve B Center</td>\n",
              "      <td>218.29</td>\n",
              "      <td>K</td>\n",
              "      <td>2</td>\n",
              "      <td>2019/02/07 21:29:08</td>\n",
              "    </tr>\n",
              "    <tr>\n",
              "      <th>4</th>\n",
              "      <td>Billie Eilish</td>\n",
              "      <td>Greek Theatre Los Angeles</td>\n",
              "      <td>2019/07/11 19:00:00</td>\n",
              "      <td>NaN</td>\n",
              "      <td>Benches</td>\n",
              "      <td>114.75</td>\n",
              "      <td>C</td>\n",
              "      <td>2</td>\n",
              "      <td>2019/02/07 20:31:02</td>\n",
              "    </tr>\n",
              "  </tbody>\n",
              "</table>\n",
              "</div>"
            ],
            "text/plain": [
              "           Event                      Venue  ... Qty            Date sold\n",
              "0  Billie Eilish  Greek Theatre Los Angeles  ...   4  2019/02/05 10:09:33\n",
              "1  Billie Eilish  Greek Theatre Los Angeles  ...   2  2019/02/05 09:30:39\n",
              "2  Billie Eilish  Greek Theatre Los Angeles  ...   3  2019/02/07 21:45:23\n",
              "3  Billie Eilish  Greek Theatre Los Angeles  ...   2  2019/02/07 21:29:08\n",
              "4  Billie Eilish  Greek Theatre Los Angeles  ...   2  2019/02/07 20:31:02\n",
              "\n",
              "[5 rows x 9 columns]"
            ]
          },
          "metadata": {
            "tags": []
          },
          "execution_count": 10
        }
      ]
    },
    {
      "cell_type": "code",
      "metadata": {
        "id": "VoG13A3EPLsD",
        "colab_type": "code",
        "colab": {}
      },
      "source": [
        "df =data[4:]"
      ],
      "execution_count": 0,
      "outputs": []
    },
    {
      "cell_type": "code",
      "metadata": {
        "id": "a980ajqlPoSi",
        "colab_type": "code",
        "colab": {}
      },
      "source": [
        "df=data[['Section', 'Price', 'Date sold']]"
      ],
      "execution_count": 0,
      "outputs": []
    },
    {
      "cell_type": "code",
      "metadata": {
        "id": "4eJiVKsoPqGK",
        "colab_type": "code",
        "colab": {
          "base_uri": "https://localhost:8080/",
          "height": 204
        },
        "outputId": "868b01e6-35a4-46eb-9591-39fcd2f95c90"
      },
      "source": [
        "df.head()"
      ],
      "execution_count": 21,
      "outputs": [
        {
          "output_type": "execute_result",
          "data": {
            "text/html": [
              "<div>\n",
              "<style scoped>\n",
              "    .dataframe tbody tr th:only-of-type {\n",
              "        vertical-align: middle;\n",
              "    }\n",
              "\n",
              "    .dataframe tbody tr th {\n",
              "        vertical-align: top;\n",
              "    }\n",
              "\n",
              "    .dataframe thead th {\n",
              "        text-align: right;\n",
              "    }\n",
              "</style>\n",
              "<table border=\"1\" class=\"dataframe\">\n",
              "  <thead>\n",
              "    <tr style=\"text-align: right;\">\n",
              "      <th></th>\n",
              "      <th>Section</th>\n",
              "      <th>Price</th>\n",
              "      <th>Date sold</th>\n",
              "    </tr>\n",
              "  </thead>\n",
              "  <tbody>\n",
              "    <tr>\n",
              "      <th>0</th>\n",
              "      <td>B Center</td>\n",
              "      <td>617.81</td>\n",
              "      <td>2019/02/05 10:09:33</td>\n",
              "    </tr>\n",
              "    <tr>\n",
              "      <th>1</th>\n",
              "      <td>Reserve C Sides</td>\n",
              "      <td>345.77</td>\n",
              "      <td>2019/02/05 09:30:39</td>\n",
              "    </tr>\n",
              "    <tr>\n",
              "      <th>2</th>\n",
              "      <td>Reserve A Center</td>\n",
              "      <td>459.87</td>\n",
              "      <td>2019/02/07 21:45:23</td>\n",
              "    </tr>\n",
              "    <tr>\n",
              "      <th>3</th>\n",
              "      <td>Reserve B Center</td>\n",
              "      <td>218.29</td>\n",
              "      <td>2019/02/07 21:29:08</td>\n",
              "    </tr>\n",
              "    <tr>\n",
              "      <th>4</th>\n",
              "      <td>Benches</td>\n",
              "      <td>114.75</td>\n",
              "      <td>2019/02/07 20:31:02</td>\n",
              "    </tr>\n",
              "  </tbody>\n",
              "</table>\n",
              "</div>"
            ],
            "text/plain": [
              "            Section   Price            Date sold\n",
              "0          B Center  617.81  2019/02/05 10:09:33\n",
              "1   Reserve C Sides  345.77  2019/02/05 09:30:39\n",
              "2  Reserve A Center  459.87  2019/02/07 21:45:23\n",
              "3  Reserve B Center  218.29  2019/02/07 21:29:08\n",
              "4           Benches  114.75  2019/02/07 20:31:02"
            ]
          },
          "metadata": {
            "tags": []
          },
          "execution_count": 21
        }
      ]
    },
    {
      "cell_type": "code",
      "metadata": {
        "id": "NkfTl1PrQVWm",
        "colab_type": "code",
        "colab": {
          "base_uri": "https://localhost:8080/",
          "height": 34
        },
        "outputId": "0d922bb4-11c2-420e-e721-09db22afe170"
      },
      "source": [
        "df['Date sold'][0]"
      ],
      "execution_count": 25,
      "outputs": [
        {
          "output_type": "execute_result",
          "data": {
            "text/plain": [
              "'2019/02/05 10:09:33'"
            ]
          },
          "metadata": {
            "tags": []
          },
          "execution_count": 25
        }
      ]
    },
    {
      "cell_type": "code",
      "metadata": {
        "id": "phfghMm1Q7Cr",
        "colab_type": "code",
        "colab": {}
      },
      "source": [
        "x=df['Date sold'][0].split(\" \")"
      ],
      "execution_count": 0,
      "outputs": []
    },
    {
      "cell_type": "code",
      "metadata": {
        "id": "q3zcOChnSXXj",
        "colab_type": "code",
        "colab": {
          "base_uri": "https://localhost:8080/",
          "height": 34
        },
        "outputId": "d5206603-479a-4289-a23c-4f42d338d176"
      },
      "source": [
        "x"
      ],
      "execution_count": 32,
      "outputs": [
        {
          "output_type": "execute_result",
          "data": {
            "text/plain": [
              "['2019/02/05', '10:09:33']"
            ]
          },
          "metadata": {
            "tags": []
          },
          "execution_count": 32
        }
      ]
    },
    {
      "cell_type": "code",
      "metadata": {
        "id": "zmRr8xZpRogK",
        "colab_type": "code",
        "colab": {
          "base_uri": "https://localhost:8080/",
          "height": 34
        },
        "outputId": "0221e68d-457c-4049-bd13-06b3b5fbfe42"
      },
      "source": [
        "x[0]"
      ],
      "execution_count": 34,
      "outputs": [
        {
          "output_type": "execute_result",
          "data": {
            "text/plain": [
              "'2019/02/05'"
            ]
          },
          "metadata": {
            "tags": []
          },
          "execution_count": 34
        }
      ]
    },
    {
      "cell_type": "code",
      "metadata": {
        "id": "9gpzSGj9Rt1-",
        "colab_type": "code",
        "colab": {
          "base_uri": "https://localhost:8080/",
          "height": 119
        },
        "outputId": "fa631861-edaf-4802-a4ee-b549be592993"
      },
      "source": [
        "\tdf['splitted']=df[df.columns[2]].map(lambda x:x.split(' '))\n"
      ],
      "execution_count": 36,
      "outputs": [
        {
          "output_type": "stream",
          "text": [
            "/usr/local/lib/python3.6/dist-packages/ipykernel_launcher.py:1: SettingWithCopyWarning: \n",
            "A value is trying to be set on a copy of a slice from a DataFrame.\n",
            "Try using .loc[row_indexer,col_indexer] = value instead\n",
            "\n",
            "See the caveats in the documentation: http://pandas.pydata.org/pandas-docs/stable/indexing.html#indexing-view-versus-copy\n",
            "  \"\"\"Entry point for launching an IPython kernel.\n"
          ],
          "name": "stderr"
        }
      ]
    },
    {
      "cell_type": "code",
      "metadata": {
        "id": "AqTj4mCpS1ZW",
        "colab_type": "code",
        "colab": {
          "base_uri": "https://localhost:8080/",
          "height": 204
        },
        "outputId": "80b30833-85aa-453a-fe8c-d98b087bffe2"
      },
      "source": [
        "df.head()"
      ],
      "execution_count": 43,
      "outputs": [
        {
          "output_type": "execute_result",
          "data": {
            "text/html": [
              "<div>\n",
              "<style scoped>\n",
              "    .dataframe tbody tr th:only-of-type {\n",
              "        vertical-align: middle;\n",
              "    }\n",
              "\n",
              "    .dataframe tbody tr th {\n",
              "        vertical-align: top;\n",
              "    }\n",
              "\n",
              "    .dataframe thead th {\n",
              "        text-align: right;\n",
              "    }\n",
              "</style>\n",
              "<table border=\"1\" class=\"dataframe\">\n",
              "  <thead>\n",
              "    <tr style=\"text-align: right;\">\n",
              "      <th></th>\n",
              "      <th>Section</th>\n",
              "      <th>Price</th>\n",
              "      <th>Date sold</th>\n",
              "      <th>splitted</th>\n",
              "      <th>date</th>\n",
              "      <th>time</th>\n",
              "    </tr>\n",
              "  </thead>\n",
              "  <tbody>\n",
              "    <tr>\n",
              "      <th>0</th>\n",
              "      <td>B Center</td>\n",
              "      <td>617.81</td>\n",
              "      <td>2019/02/05 10:09:33</td>\n",
              "      <td>[2019/02/05, 10:09:33]</td>\n",
              "      <td>2019/02/05</td>\n",
              "      <td>10:09:33</td>\n",
              "    </tr>\n",
              "    <tr>\n",
              "      <th>1</th>\n",
              "      <td>Reserve C Sides</td>\n",
              "      <td>345.77</td>\n",
              "      <td>2019/02/05 09:30:39</td>\n",
              "      <td>[2019/02/05, 09:30:39]</td>\n",
              "      <td>2019/02/05</td>\n",
              "      <td>09:30:39</td>\n",
              "    </tr>\n",
              "    <tr>\n",
              "      <th>2</th>\n",
              "      <td>Reserve A Center</td>\n",
              "      <td>459.87</td>\n",
              "      <td>2019/02/07 21:45:23</td>\n",
              "      <td>[2019/02/07, 21:45:23]</td>\n",
              "      <td>2019/02/07</td>\n",
              "      <td>21:45:23</td>\n",
              "    </tr>\n",
              "    <tr>\n",
              "      <th>3</th>\n",
              "      <td>Reserve B Center</td>\n",
              "      <td>218.29</td>\n",
              "      <td>2019/02/07 21:29:08</td>\n",
              "      <td>[2019/02/07, 21:29:08]</td>\n",
              "      <td>2019/02/07</td>\n",
              "      <td>21:29:08</td>\n",
              "    </tr>\n",
              "    <tr>\n",
              "      <th>4</th>\n",
              "      <td>Benches</td>\n",
              "      <td>114.75</td>\n",
              "      <td>2019/02/07 20:31:02</td>\n",
              "      <td>[2019/02/07, 20:31:02]</td>\n",
              "      <td>2019/02/07</td>\n",
              "      <td>20:31:02</td>\n",
              "    </tr>\n",
              "  </tbody>\n",
              "</table>\n",
              "</div>"
            ],
            "text/plain": [
              "            Section   Price  ...        date      time\n",
              "0          B Center  617.81  ...  2019/02/05  10:09:33\n",
              "1   Reserve C Sides  345.77  ...  2019/02/05  09:30:39\n",
              "2  Reserve A Center  459.87  ...  2019/02/07  21:45:23\n",
              "3  Reserve B Center  218.29  ...  2019/02/07  21:29:08\n",
              "4           Benches  114.75  ...  2019/02/07  20:31:02\n",
              "\n",
              "[5 rows x 6 columns]"
            ]
          },
          "metadata": {
            "tags": []
          },
          "execution_count": 43
        }
      ]
    },
    {
      "cell_type": "code",
      "metadata": {
        "id": "7IPP5zymS9ZV",
        "colab_type": "code",
        "colab": {
          "base_uri": "https://localhost:8080/",
          "height": 221
        },
        "outputId": "2072c694-8f54-45f2-f42f-e6de6798276b"
      },
      "source": [
        "df['date']=df['splitted'].map(lambda x:x[0])\n",
        "df['time']=df['splitted'].map(lambda x:x[1])"
      ],
      "execution_count": 42,
      "outputs": [
        {
          "output_type": "stream",
          "text": [
            "/usr/local/lib/python3.6/dist-packages/ipykernel_launcher.py:1: SettingWithCopyWarning: \n",
            "A value is trying to be set on a copy of a slice from a DataFrame.\n",
            "Try using .loc[row_indexer,col_indexer] = value instead\n",
            "\n",
            "See the caveats in the documentation: http://pandas.pydata.org/pandas-docs/stable/indexing.html#indexing-view-versus-copy\n",
            "  \"\"\"Entry point for launching an IPython kernel.\n",
            "/usr/local/lib/python3.6/dist-packages/ipykernel_launcher.py:2: SettingWithCopyWarning: \n",
            "A value is trying to be set on a copy of a slice from a DataFrame.\n",
            "Try using .loc[row_indexer,col_indexer] = value instead\n",
            "\n",
            "See the caveats in the documentation: http://pandas.pydata.org/pandas-docs/stable/indexing.html#indexing-view-versus-copy\n",
            "  \n"
          ],
          "name": "stderr"
        }
      ]
    },
    {
      "cell_type": "code",
      "metadata": {
        "id": "sl4llB9xTOsW",
        "colab_type": "code",
        "colab": {
          "base_uri": "https://localhost:8080/",
          "height": 34
        },
        "outputId": "3b13071b-124e-4cc7-9be6-9483907dab65"
      },
      "source": [
        "df.date[0]"
      ],
      "execution_count": 45,
      "outputs": [
        {
          "output_type": "execute_result",
          "data": {
            "text/plain": [
              "'2019/02/05'"
            ]
          },
          "metadata": {
            "tags": []
          },
          "execution_count": 45
        }
      ]
    },
    {
      "cell_type": "code",
      "metadata": {
        "id": "Mb3Y1FQvTuoL",
        "colab_type": "code",
        "colab": {}
      },
      "source": [
        "df1=df.groupby(['date']).sum()"
      ],
      "execution_count": 0,
      "outputs": []
    },
    {
      "cell_type": "code",
      "metadata": {
        "id": "Y8yaxhEYVDln",
        "colab_type": "code",
        "colab": {
          "base_uri": "https://localhost:8080/",
          "height": 235
        },
        "outputId": "7840d332-291a-44ae-923c-0afa8f1b59ff"
      },
      "source": [
        "df1.head()"
      ],
      "execution_count": 73,
      "outputs": [
        {
          "output_type": "execute_result",
          "data": {
            "text/html": [
              "<div>\n",
              "<style scoped>\n",
              "    .dataframe tbody tr th:only-of-type {\n",
              "        vertical-align: middle;\n",
              "    }\n",
              "\n",
              "    .dataframe tbody tr th {\n",
              "        vertical-align: top;\n",
              "    }\n",
              "\n",
              "    .dataframe thead th {\n",
              "        text-align: right;\n",
              "    }\n",
              "</style>\n",
              "<table border=\"1\" class=\"dataframe\">\n",
              "  <thead>\n",
              "    <tr style=\"text-align: right;\">\n",
              "      <th></th>\n",
              "      <th>Price</th>\n",
              "    </tr>\n",
              "    <tr>\n",
              "      <th>date</th>\n",
              "      <th></th>\n",
              "    </tr>\n",
              "  </thead>\n",
              "  <tbody>\n",
              "    <tr>\n",
              "      <th>2019/02/05</th>\n",
              "      <td>1741.58</td>\n",
              "    </tr>\n",
              "    <tr>\n",
              "      <th>2019/02/07</th>\n",
              "      <td>15531.76</td>\n",
              "    </tr>\n",
              "    <tr>\n",
              "      <th>2019/02/08</th>\n",
              "      <td>37978.45</td>\n",
              "    </tr>\n",
              "    <tr>\n",
              "      <th>2019/02/09</th>\n",
              "      <td>7495.97</td>\n",
              "    </tr>\n",
              "    <tr>\n",
              "      <th>2019/02/10</th>\n",
              "      <td>1583.55</td>\n",
              "    </tr>\n",
              "  </tbody>\n",
              "</table>\n",
              "</div>"
            ],
            "text/plain": [
              "               Price\n",
              "date                \n",
              "2019/02/05   1741.58\n",
              "2019/02/07  15531.76\n",
              "2019/02/08  37978.45\n",
              "2019/02/09   7495.97\n",
              "2019/02/10   1583.55"
            ]
          },
          "metadata": {
            "tags": []
          },
          "execution_count": 73
        }
      ]
    },
    {
      "cell_type": "code",
      "metadata": {
        "id": "8X2BehQzg2Kz",
        "colab_type": "code",
        "colab": {
          "base_uri": "https://localhost:8080/",
          "height": 297
        },
        "outputId": "bb5934da-7f42-47af-9cd6-bc02b278c368"
      },
      "source": [
        "df1.describe()"
      ],
      "execution_count": 77,
      "outputs": [
        {
          "output_type": "execute_result",
          "data": {
            "text/html": [
              "<div>\n",
              "<style scoped>\n",
              "    .dataframe tbody tr th:only-of-type {\n",
              "        vertical-align: middle;\n",
              "    }\n",
              "\n",
              "    .dataframe tbody tr th {\n",
              "        vertical-align: top;\n",
              "    }\n",
              "\n",
              "    .dataframe thead th {\n",
              "        text-align: right;\n",
              "    }\n",
              "</style>\n",
              "<table border=\"1\" class=\"dataframe\">\n",
              "  <thead>\n",
              "    <tr style=\"text-align: right;\">\n",
              "      <th></th>\n",
              "      <th>Price</th>\n",
              "    </tr>\n",
              "  </thead>\n",
              "  <tbody>\n",
              "    <tr>\n",
              "      <th>count</th>\n",
              "      <td>146.000000</td>\n",
              "    </tr>\n",
              "    <tr>\n",
              "      <th>mean</th>\n",
              "      <td>1932.338562</td>\n",
              "    </tr>\n",
              "    <tr>\n",
              "      <th>std</th>\n",
              "      <td>3631.788707</td>\n",
              "    </tr>\n",
              "    <tr>\n",
              "      <th>min</th>\n",
              "      <td>133.700000</td>\n",
              "    </tr>\n",
              "    <tr>\n",
              "      <th>25%</th>\n",
              "      <td>685.240000</td>\n",
              "    </tr>\n",
              "    <tr>\n",
              "      <th>50%</th>\n",
              "      <td>1202.915000</td>\n",
              "    </tr>\n",
              "    <tr>\n",
              "      <th>75%</th>\n",
              "      <td>1967.070000</td>\n",
              "    </tr>\n",
              "    <tr>\n",
              "      <th>max</th>\n",
              "      <td>37978.450000</td>\n",
              "    </tr>\n",
              "  </tbody>\n",
              "</table>\n",
              "</div>"
            ],
            "text/plain": [
              "              Price\n",
              "count    146.000000\n",
              "mean    1932.338562\n",
              "std     3631.788707\n",
              "min      133.700000\n",
              "25%      685.240000\n",
              "50%     1202.915000\n",
              "75%     1967.070000\n",
              "max    37978.450000"
            ]
          },
          "metadata": {
            "tags": []
          },
          "execution_count": 77
        }
      ]
    },
    {
      "cell_type": "code",
      "metadata": {
        "id": "kGHhcihKfKIm",
        "colab_type": "code",
        "colab": {}
      },
      "source": [
        "df2=df.groupby(['date']).sum()"
      ],
      "execution_count": 0,
      "outputs": []
    },
    {
      "cell_type": "code",
      "metadata": {
        "id": "dQMy8k9oVKI3",
        "colab_type": "code",
        "colab": {
          "base_uri": "https://localhost:8080/",
          "height": 375
        },
        "outputId": "05fff182-8a04-4f46-85de-14d156105a1d"
      },
      "source": [
        "# look at price distribution# look a \n",
        "fig = plt.figure(figsize=(8,5))\n",
        "ax = fig.gca()\n",
        "sns.distplot(df1.Price,kde=False)\n",
        "plt.xlabel('Price',fontsize=14,fontweight=\"bold\")\n",
        "\n",
        "plt.title('Distribution of Prices over all Listings',fontsize=18,fontweight=\"bold\")\n",
        "plt.legend(loc='upper right',fontsize=16)\n",
        "plt.show()"
      ],
      "execution_count": 59,
      "outputs": [
        {
          "output_type": "stream",
          "text": [
            "No handles with labels found to put in legend.\n"
          ],
          "name": "stderr"
        },
        {
          "output_type": "display_data",
          "data": {
            "image/png": "[encoded data removed]",
            "text/plain": [
              "<Figure size 576x360 with 1 Axes>"
            ]
          },
          "metadata": {
            "tags": []
          }
        }
      ]
    },
    {
      "cell_type": "code",
      "metadata": {
        "id": "pd7Cn0_TWguC",
        "colab_type": "code",
        "colab": {
          "base_uri": "https://localhost:8080/",
          "height": 300
        },
        "outputId": "061df8ff-2433-41a9-d38d-93597a7ef70b"
      },
      "source": [
        "df1.plot()"
      ],
      "execution_count": 60,
      "outputs": [
        {
          "output_type": "execute_result",
          "data": {
            "text/plain": [
              "<matplotlib.axes._subplots.AxesSubplot at 0x7f0379039128>"
            ]
          },
          "metadata": {
            "tags": []
          },
          "execution_count": 60
        },
        {
          "output_type": "display_data",
          "data": {
            "image/png": "[encoded data removed]",
            "text/plain": [
              "<Figure size 432x288 with 1 Axes>"
            ]
          },
          "metadata": {
            "tags": []
          }
        }
      ]
    },
    {
      "cell_type": "code",
      "metadata": {
        "id": "WqbvXyDuYYq7",
        "colab_type": "code",
        "colab": {
          "base_uri": "https://localhost:8080/",
          "height": 34
        },
        "outputId": "65f9fdde-4eea-42e1-b58a-4acc3b277392"
      },
      "source": [
        "len(df.date.unique())"
      ],
      "execution_count": 63,
      "outputs": [
        {
          "output_type": "execute_result",
          "data": {
            "text/plain": [
              "146"
            ]
          },
          "metadata": {
            "tags": []
          },
          "execution_count": 63
        }
      ]
    },
    {
      "cell_type": "code",
      "metadata": {
        "id": "SOF-g5h8Zcel",
        "colab_type": "code",
        "colab": {}
      },
      "source": [
        "df1 = df1.reset_index()\n",
        "res = df.groupby(df.index // 10).agg('Price')"
      ],
      "execution_count": 0,
      "outputs": []
    },
    {
      "cell_type": "code",
      "metadata": {
        "id": "TLTqkV9zb7bT",
        "colab_type": "code",
        "colab": {
          "base_uri": "https://localhost:8080/",
          "height": 34
        },
        "outputId": "1b3bb0a3-2712-4b54-afde-585c7c021895"
      },
      "source": [
        "res"
      ],
      "execution_count": 69,
      "outputs": [
        {
          "output_type": "execute_result",
          "data": {
            "text/plain": [
              "<pandas.core.groupby.generic.SeriesGroupBy object at 0x7f03791725c0>"
            ]
          },
          "metadata": {
            "tags": []
          },
          "execution_count": 69
        }
      ]
    },
    {
      "cell_type": "code",
      "metadata": {
        "id": "l4kmfXBvcVDK",
        "colab_type": "code",
        "colab": {
          "base_uri": "https://localhost:8080/",
          "height": 34
        },
        "outputId": "8520e24d-5898-4c83-c301-3cb9d679b1ef"
      },
      "source": [
        "df1.columns"
      ],
      "execution_count": 71,
      "outputs": [
        {
          "output_type": "execute_result",
          "data": {
            "text/plain": [
              "Index(['level_0', 'index', 'date', 'Price'], dtype='object')"
            ]
          },
          "metadata": {
            "tags": []
          },
          "execution_count": 71
        }
      ]
    },
    {
      "cell_type": "code",
      "metadata": {
        "id": "x84Fww3icar2",
        "colab_type": "code",
        "colab": {
          "base_uri": "https://localhost:8080/",
          "height": 1000
        },
        "outputId": "2410e98d-6f3a-4464-8c8a-c53fda242d75"
      },
      "source": [
        "# How many conversion are there for each day?\n",
        "df['date'].value_counts()"
      ],
      "execution_count": 74,
      "outputs": [
        {
          "output_type": "execute_result",
          "data": {
            "text/plain": [
              "2019/02/08    214\n",
              "2019/02/07     65\n",
              "2019/02/09     36\n",
              "2019/07/10     29\n",
              "2019/03/20     21\n",
              "2019/07/09     15\n",
              "2019/07/08     11\n",
              "2019/03/30     10\n",
              "2019/02/17     10\n",
              "2019/02/10     10\n",
              "2019/02/12     10\n",
              "2019/02/14      9\n",
              "2019/06/24      9\n",
              "2019/07/03      8\n",
              "2019/03/29      8\n",
              "2019/02/13      8\n",
              "2019/04/15      8\n",
              "2019/02/15      7\n",
              "2019/05/14      7\n",
              "2019/03/10      7\n",
              "2019/06/27      6\n",
              "2019/04/22      6\n",
              "2019/04/25      6\n",
              "2019/02/11      6\n",
              "2019/03/25      6\n",
              "2019/06/28      5\n",
              "2019/07/04      5\n",
              "2019/03/19      5\n",
              "2019/06/18      5\n",
              "2019/07/05      5\n",
              "             ... \n",
              "2019/04/20      2\n",
              "2019/05/11      2\n",
              "2019/05/12      2\n",
              "2019/05/03      2\n",
              "2019/04/26      2\n",
              "2019/03/21      2\n",
              "2019/05/04      2\n",
              "2019/06/23      2\n",
              "2019/05/19      2\n",
              "2019/06/22      2\n",
              "2019/02/22      2\n",
              "2019/02/20      2\n",
              "2019/03/24      2\n",
              "2019/06/26      2\n",
              "2019/02/26      2\n",
              "2019/04/07      2\n",
              "2019/03/11      1\n",
              "2019/06/17      1\n",
              "2019/03/16      1\n",
              "2019/05/20      1\n",
              "2019/06/02      1\n",
              "2019/04/28      1\n",
              "2019/04/16      1\n",
              "2019/06/08      1\n",
              "2019/03/23      1\n",
              "2019/04/17      1\n",
              "2019/06/20      1\n",
              "2019/03/26      1\n",
              "2019/06/11      1\n",
              "2019/03/13      1\n",
              "Name: date, Length: 146, dtype: int64"
            ]
          },
          "metadata": {
            "tags": []
          },
          "execution_count": 74
        }
      ]
    },
    {
      "cell_type": "code",
      "metadata": {
        "id": "vXedhk00gD5u",
        "colab_type": "code",
        "colab": {
          "base_uri": "https://localhost:8080/",
          "height": 1000
        },
        "outputId": "99a268c9-ab61-493e-a8f2-6b9184cac9d4"
      },
      "source": [
        "df1"
      ],
      "execution_count": 80,
      "outputs": [
        {
          "output_type": "execute_result",
          "data": {
            "text/html": [
              "<div>\n",
              "<style scoped>\n",
              "    .dataframe tbody tr th:only-of-type {\n",
              "        vertical-align: middle;\n",
              "    }\n",
              "\n",
              "    .dataframe tbody tr th {\n",
              "        vertical-align: top;\n",
              "    }\n",
              "\n",
              "    .dataframe thead th {\n",
              "        text-align: right;\n",
              "    }\n",
              "</style>\n",
              "<table border=\"1\" class=\"dataframe\">\n",
              "  <thead>\n",
              "    <tr style=\"text-align: right;\">\n",
              "      <th></th>\n",
              "      <th>Price</th>\n",
              "    </tr>\n",
              "    <tr>\n",
              "      <th>date</th>\n",
              "      <th></th>\n",
              "    </tr>\n",
              "  </thead>\n",
              "  <tbody>\n",
              "    <tr>\n",
              "      <th>2019/02/05</th>\n",
              "      <td>1741.58</td>\n",
              "    </tr>\n",
              "    <tr>\n",
              "      <th>2019/02/07</th>\n",
              "      <td>15531.76</td>\n",
              "    </tr>\n",
              "    <tr>\n",
              "      <th>2019/02/08</th>\n",
              "      <td>37978.45</td>\n",
              "    </tr>\n",
              "    <tr>\n",
              "      <th>2019/02/09</th>\n",
              "      <td>7495.97</td>\n",
              "    </tr>\n",
              "    <tr>\n",
              "      <th>2019/02/10</th>\n",
              "      <td>1583.55</td>\n",
              "    </tr>\n",
              "    <tr>\n",
              "      <th>2019/02/11</th>\n",
              "      <td>961.62</td>\n",
              "    </tr>\n",
              "    <tr>\n",
              "      <th>2019/02/12</th>\n",
              "      <td>2670.50</td>\n",
              "    </tr>\n",
              "    <tr>\n",
              "      <th>2019/02/13</th>\n",
              "      <td>1303.44</td>\n",
              "    </tr>\n",
              "    <tr>\n",
              "      <th>2019/02/14</th>\n",
              "      <td>2393.70</td>\n",
              "    </tr>\n",
              "    <tr>\n",
              "      <th>2019/02/15</th>\n",
              "      <td>1589.89</td>\n",
              "    </tr>\n",
              "    <tr>\n",
              "      <th>2019/02/16</th>\n",
              "      <td>824.97</td>\n",
              "    </tr>\n",
              "    <tr>\n",
              "      <th>2019/02/17</th>\n",
              "      <td>2210.36</td>\n",
              "    </tr>\n",
              "    <tr>\n",
              "      <th>2019/02/18</th>\n",
              "      <td>546.77</td>\n",
              "    </tr>\n",
              "    <tr>\n",
              "      <th>2019/02/19</th>\n",
              "      <td>820.88</td>\n",
              "    </tr>\n",
              "    <tr>\n",
              "      <th>2019/02/20</th>\n",
              "      <td>282.80</td>\n",
              "    </tr>\n",
              "    <tr>\n",
              "      <th>2019/02/21</th>\n",
              "      <td>682.27</td>\n",
              "    </tr>\n",
              "    <tr>\n",
              "      <th>2019/02/22</th>\n",
              "      <td>270.01</td>\n",
              "    </tr>\n",
              "    <tr>\n",
              "      <th>2019/02/23</th>\n",
              "      <td>1140.59</td>\n",
              "    </tr>\n",
              "    <tr>\n",
              "      <th>2019/02/24</th>\n",
              "      <td>551.99</td>\n",
              "    </tr>\n",
              "    <tr>\n",
              "      <th>2019/02/25</th>\n",
              "      <td>522.00</td>\n",
              "    </tr>\n",
              "    <tr>\n",
              "      <th>2019/02/26</th>\n",
              "      <td>324.12</td>\n",
              "    </tr>\n",
              "    <tr>\n",
              "      <th>2019/02/27</th>\n",
              "      <td>500.05</td>\n",
              "    </tr>\n",
              "    <tr>\n",
              "      <th>2019/02/28</th>\n",
              "      <td>262.00</td>\n",
              "    </tr>\n",
              "    <tr>\n",
              "      <th>2019/03/01</th>\n",
              "      <td>359.50</td>\n",
              "    </tr>\n",
              "    <tr>\n",
              "      <th>2019/03/02</th>\n",
              "      <td>857.15</td>\n",
              "    </tr>\n",
              "    <tr>\n",
              "      <th>2019/03/03</th>\n",
              "      <td>802.99</td>\n",
              "    </tr>\n",
              "    <tr>\n",
              "      <th>2019/03/04</th>\n",
              "      <td>412.00</td>\n",
              "    </tr>\n",
              "    <tr>\n",
              "      <th>2019/03/05</th>\n",
              "      <td>523.25</td>\n",
              "    </tr>\n",
              "    <tr>\n",
              "      <th>2019/03/06</th>\n",
              "      <td>346.90</td>\n",
              "    </tr>\n",
              "    <tr>\n",
              "      <th>2019/03/07</th>\n",
              "      <td>894.47</td>\n",
              "    </tr>\n",
              "    <tr>\n",
              "      <th>...</th>\n",
              "      <td>...</td>\n",
              "    </tr>\n",
              "    <tr>\n",
              "      <th>2019/06/12</th>\n",
              "      <td>1174.00</td>\n",
              "    </tr>\n",
              "    <tr>\n",
              "      <th>2019/06/13</th>\n",
              "      <td>1413.90</td>\n",
              "    </tr>\n",
              "    <tr>\n",
              "      <th>2019/06/14</th>\n",
              "      <td>2491.70</td>\n",
              "    </tr>\n",
              "    <tr>\n",
              "      <th>2019/06/15</th>\n",
              "      <td>2586.87</td>\n",
              "    </tr>\n",
              "    <tr>\n",
              "      <th>2019/06/16</th>\n",
              "      <td>982.42</td>\n",
              "    </tr>\n",
              "    <tr>\n",
              "      <th>2019/06/17</th>\n",
              "      <td>1000.00</td>\n",
              "    </tr>\n",
              "    <tr>\n",
              "      <th>2019/06/18</th>\n",
              "      <td>2404.19</td>\n",
              "    </tr>\n",
              "    <tr>\n",
              "      <th>2019/06/19</th>\n",
              "      <td>1896.54</td>\n",
              "    </tr>\n",
              "    <tr>\n",
              "      <th>2019/06/20</th>\n",
              "      <td>695.00</td>\n",
              "    </tr>\n",
              "    <tr>\n",
              "      <th>2019/06/21</th>\n",
              "      <td>2188.89</td>\n",
              "    </tr>\n",
              "    <tr>\n",
              "      <th>2019/06/22</th>\n",
              "      <td>1112.90</td>\n",
              "    </tr>\n",
              "    <tr>\n",
              "      <th>2019/06/23</th>\n",
              "      <td>901.25</td>\n",
              "    </tr>\n",
              "    <tr>\n",
              "      <th>2019/06/24</th>\n",
              "      <td>4758.68</td>\n",
              "    </tr>\n",
              "    <tr>\n",
              "      <th>2019/06/25</th>\n",
              "      <td>1234.00</td>\n",
              "    </tr>\n",
              "    <tr>\n",
              "      <th>2019/06/26</th>\n",
              "      <td>995.25</td>\n",
              "    </tr>\n",
              "    <tr>\n",
              "      <th>2019/06/27</th>\n",
              "      <td>2880.00</td>\n",
              "    </tr>\n",
              "    <tr>\n",
              "      <th>2019/06/28</th>\n",
              "      <td>2496.80</td>\n",
              "    </tr>\n",
              "    <tr>\n",
              "      <th>2019/06/29</th>\n",
              "      <td>1631.00</td>\n",
              "    </tr>\n",
              "    <tr>\n",
              "      <th>2019/06/30</th>\n",
              "      <td>2144.05</td>\n",
              "    </tr>\n",
              "    <tr>\n",
              "      <th>2019/07/01</th>\n",
              "      <td>1747.03</td>\n",
              "    </tr>\n",
              "    <tr>\n",
              "      <th>2019/07/02</th>\n",
              "      <td>1838.00</td>\n",
              "    </tr>\n",
              "    <tr>\n",
              "      <th>2019/07/03</th>\n",
              "      <td>4945.90</td>\n",
              "    </tr>\n",
              "    <tr>\n",
              "      <th>2019/07/04</th>\n",
              "      <td>1988.92</td>\n",
              "    </tr>\n",
              "    <tr>\n",
              "      <th>2019/07/05</th>\n",
              "      <td>3868.45</td>\n",
              "    </tr>\n",
              "    <tr>\n",
              "      <th>2019/07/06</th>\n",
              "      <td>1781.99</td>\n",
              "    </tr>\n",
              "    <tr>\n",
              "      <th>2019/07/07</th>\n",
              "      <td>1400.11</td>\n",
              "    </tr>\n",
              "    <tr>\n",
              "      <th>2019/07/08</th>\n",
              "      <td>6963.46</td>\n",
              "    </tr>\n",
              "    <tr>\n",
              "      <th>2019/07/09</th>\n",
              "      <td>10880.53</td>\n",
              "    </tr>\n",
              "    <tr>\n",
              "      <th>2019/07/10</th>\n",
              "      <td>13277.63</td>\n",
              "    </tr>\n",
              "    <tr>\n",
              "      <th>2019/07/11</th>\n",
              "      <td>1643.10</td>\n",
              "    </tr>\n",
              "  </tbody>\n",
              "</table>\n",
              "<p>146 rows × 1 columns</p>\n",
              "</div>"
            ],
            "text/plain": [
              "               Price\n",
              "date                \n",
              "2019/02/05   1741.58\n",
              "2019/02/07  15531.76\n",
              "2019/02/08  37978.45\n",
              "2019/02/09   7495.97\n",
              "2019/02/10   1583.55\n",
              "2019/02/11    961.62\n",
              "2019/02/12   2670.50\n",
              "2019/02/13   1303.44\n",
              "2019/02/14   2393.70\n",
              "2019/02/15   1589.89\n",
              "2019/02/16    824.97\n",
              "2019/02/17   2210.36\n",
              "2019/02/18    546.77\n",
              "2019/02/19    820.88\n",
              "2019/02/20    282.80\n",
              "2019/02/21    682.27\n",
              "2019/02/22    270.01\n",
              "2019/02/23   1140.59\n",
              "2019/02/24    551.99\n",
              "2019/02/25    522.00\n",
              "2019/02/26    324.12\n",
              "2019/02/27    500.05\n",
              "2019/02/28    262.00\n",
              "2019/03/01    359.50\n",
              "2019/03/02    857.15\n",
              "2019/03/03    802.99\n",
              "2019/03/04    412.00\n",
              "2019/03/05    523.25\n",
              "2019/03/06    346.90\n",
              "2019/03/07    894.47\n",
              "...              ...\n",
              "2019/06/12   1174.00\n",
              "2019/06/13   1413.90\n",
              "2019/06/14   2491.70\n",
              "2019/06/15   2586.87\n",
              "2019/06/16    982.42\n",
              "2019/06/17   1000.00\n",
              "2019/06/18   2404.19\n",
              "2019/06/19   1896.54\n",
              "2019/06/20    695.00\n",
              "2019/06/21   2188.89\n",
              "2019/06/22   1112.90\n",
              "2019/06/23    901.25\n",
              "2019/06/24   4758.68\n",
              "2019/06/25   1234.00\n",
              "2019/06/26    995.25\n",
              "2019/06/27   2880.00\n",
              "2019/06/28   2496.80\n",
              "2019/06/29   1631.00\n",
              "2019/06/30   2144.05\n",
              "2019/07/01   1747.03\n",
              "2019/07/02   1838.00\n",
              "2019/07/03   4945.90\n",
              "2019/07/04   1988.92\n",
              "2019/07/05   3868.45\n",
              "2019/07/06   1781.99\n",
              "2019/07/07   1400.11\n",
              "2019/07/08   6963.46\n",
              "2019/07/09  10880.53\n",
              "2019/07/10  13277.63\n",
              "2019/07/11   1643.10\n",
              "\n",
              "[146 rows x 1 columns]"
            ]
          },
          "metadata": {
            "tags": []
          },
          "execution_count": 80
        }
      ]
    },
    {
      "cell_type": "code",
      "metadata": {
        "id": "TIseMvW9h3NX",
        "colab_type": "code",
        "colab": {}
      },
      "source": [
        "df2=df1.groupby(np.arange(len(df1))//7).sum()"
      ],
      "execution_count": 0,
      "outputs": []
    },
    {
      "cell_type": "code",
      "metadata": {
        "id": "iWJZGeqWjBFv",
        "colab_type": "code",
        "colab": {
          "base_uri": "https://localhost:8080/",
          "height": 700
        },
        "outputId": "9a722db2-eb8a-41ed-eaa8-73c27b2e05b4"
      },
      "source": [
        "df2"
      ],
      "execution_count": 85,
      "outputs": [
        {
          "output_type": "execute_result",
          "data": {
            "text/html": [
              "<div>\n",
              "<style scoped>\n",
              "    .dataframe tbody tr th:only-of-type {\n",
              "        vertical-align: middle;\n",
              "    }\n",
              "\n",
              "    .dataframe tbody tr th {\n",
              "        vertical-align: top;\n",
              "    }\n",
              "\n",
              "    .dataframe thead th {\n",
              "        text-align: right;\n",
              "    }\n",
              "</style>\n",
              "<table border=\"1\" class=\"dataframe\">\n",
              "  <thead>\n",
              "    <tr style=\"text-align: right;\">\n",
              "      <th></th>\n",
              "      <th>Price</th>\n",
              "    </tr>\n",
              "  </thead>\n",
              "  <tbody>\n",
              "    <tr>\n",
              "      <th>0</th>\n",
              "      <td>67963.43</td>\n",
              "    </tr>\n",
              "    <tr>\n",
              "      <th>1</th>\n",
              "      <td>9690.01</td>\n",
              "    </tr>\n",
              "    <tr>\n",
              "      <th>2</th>\n",
              "      <td>3773.78</td>\n",
              "    </tr>\n",
              "    <tr>\n",
              "      <th>3</th>\n",
              "      <td>3716.94</td>\n",
              "    </tr>\n",
              "    <tr>\n",
              "      <th>4</th>\n",
              "      <td>5117.48</td>\n",
              "    </tr>\n",
              "    <tr>\n",
              "      <th>5</th>\n",
              "      <td>4131.70</td>\n",
              "    </tr>\n",
              "    <tr>\n",
              "      <th>6</th>\n",
              "      <td>5885.41</td>\n",
              "    </tr>\n",
              "    <tr>\n",
              "      <th>7</th>\n",
              "      <td>10152.82</td>\n",
              "    </tr>\n",
              "    <tr>\n",
              "      <th>8</th>\n",
              "      <td>6434.28</td>\n",
              "    </tr>\n",
              "    <tr>\n",
              "      <th>9</th>\n",
              "      <td>7986.69</td>\n",
              "    </tr>\n",
              "    <tr>\n",
              "      <th>10</th>\n",
              "      <td>9554.29</td>\n",
              "    </tr>\n",
              "    <tr>\n",
              "      <th>11</th>\n",
              "      <td>8149.42</td>\n",
              "    </tr>\n",
              "    <tr>\n",
              "      <th>12</th>\n",
              "      <td>14632.65</td>\n",
              "    </tr>\n",
              "    <tr>\n",
              "      <th>13</th>\n",
              "      <td>15088.02</td>\n",
              "    </tr>\n",
              "    <tr>\n",
              "      <th>14</th>\n",
              "      <td>7920.16</td>\n",
              "    </tr>\n",
              "    <tr>\n",
              "      <th>15</th>\n",
              "      <td>11769.15</td>\n",
              "    </tr>\n",
              "    <tr>\n",
              "      <th>16</th>\n",
              "      <td>9912.24</td>\n",
              "    </tr>\n",
              "    <tr>\n",
              "      <th>17</th>\n",
              "      <td>11753.91</td>\n",
              "    </tr>\n",
              "    <tr>\n",
              "      <th>18</th>\n",
              "      <td>14378.88</td>\n",
              "    </tr>\n",
              "    <tr>\n",
              "      <th>19</th>\n",
              "      <td>18163.35</td>\n",
              "    </tr>\n",
              "    <tr>\n",
              "      <th>20</th>\n",
              "      <td>35946.82</td>\n",
              "    </tr>\n",
              "  </tbody>\n",
              "</table>\n",
              "</div>"
            ],
            "text/plain": [
              "       Price\n",
              "0   67963.43\n",
              "1    9690.01\n",
              "2    3773.78\n",
              "3    3716.94\n",
              "4    5117.48\n",
              "5    4131.70\n",
              "6    5885.41\n",
              "7   10152.82\n",
              "8    6434.28\n",
              "9    7986.69\n",
              "10   9554.29\n",
              "11   8149.42\n",
              "12  14632.65\n",
              "13  15088.02\n",
              "14   7920.16\n",
              "15  11769.15\n",
              "16   9912.24\n",
              "17  11753.91\n",
              "18  14378.88\n",
              "19  18163.35\n",
              "20  35946.82"
            ]
          },
          "metadata": {
            "tags": []
          },
          "execution_count": 85
        }
      ]
    },
    {
      "cell_type": "code",
      "metadata": {
        "id": "DaLfjn0mjCAR",
        "colab_type": "code",
        "colab": {
          "base_uri": "https://localhost:8080/",
          "height": 286
        },
        "outputId": "26bf21d8-2011-4bc4-c84d-cf745a859f1e"
      },
      "source": [
        "df2.plot()"
      ],
      "execution_count": 86,
      "outputs": [
        {
          "output_type": "execute_result",
          "data": {
            "text/plain": [
              "<matplotlib.axes._subplots.AxesSubplot at 0x7f0378d936a0>"
            ]
          },
          "metadata": {
            "tags": []
          },
          "execution_count": 86
        },
        {
          "output_type": "display_data",
          "data": {
            "image/png": "[encoded data removed]",
            "text/plain": [
              "<Figure size 432x288 with 1 Axes>"
            ]
          },
          "metadata": {
            "tags": []
          }
        }
      ]
    },
    {
      "cell_type": "code",
      "metadata": {
        "id": "z9IQFt-jjMTQ",
        "colab_type": "code",
        "colab": {}
      },
      "source": [
        "section=df.groupby(['Section']).sum()"
      ],
      "execution_count": 0,
      "outputs": []
    },
    {
      "cell_type": "code",
      "metadata": {
        "id": "LRVIU_IhjsbO",
        "colab_type": "code",
        "colab": {
          "base_uri": "https://localhost:8080/",
          "height": 1000
        },
        "outputId": "ccbd2d5a-9aa3-41a3-8362-a491a0a0d408"
      },
      "source": [
        "section"
      ],
      "execution_count": 90,
      "outputs": [
        {
          "output_type": "execute_result",
          "data": {
            "text/html": [
              "<div>\n",
              "<style scoped>\n",
              "    .dataframe tbody tr th:only-of-type {\n",
              "        vertical-align: middle;\n",
              "    }\n",
              "\n",
              "    .dataframe tbody tr th {\n",
              "        vertical-align: top;\n",
              "    }\n",
              "\n",
              "    .dataframe thead th {\n",
              "        text-align: right;\n",
              "    }\n",
              "</style>\n",
              "<table border=\"1\" class=\"dataframe\">\n",
              "  <thead>\n",
              "    <tr style=\"text-align: right;\">\n",
              "      <th></th>\n",
              "      <th>Price</th>\n",
              "    </tr>\n",
              "    <tr>\n",
              "      <th>Section</th>\n",
              "      <th></th>\n",
              "    </tr>\n",
              "  </thead>\n",
              "  <tbody>\n",
              "    <tr>\n",
              "      <th>A</th>\n",
              "      <td>672.37</td>\n",
              "    </tr>\n",
              "    <tr>\n",
              "      <th>A CENTER</th>\n",
              "      <td>663.41</td>\n",
              "    </tr>\n",
              "    <tr>\n",
              "      <th>A Center</th>\n",
              "      <td>375.00</td>\n",
              "    </tr>\n",
              "    <tr>\n",
              "      <th>AL</th>\n",
              "      <td>447.40</td>\n",
              "    </tr>\n",
              "    <tr>\n",
              "      <th>B Center</th>\n",
              "      <td>1116.81</td>\n",
              "    </tr>\n",
              "    <tr>\n",
              "      <th>BL</th>\n",
              "      <td>498.96</td>\n",
              "    </tr>\n",
              "    <tr>\n",
              "      <th>Bench Left</th>\n",
              "      <td>621.97</td>\n",
              "    </tr>\n",
              "    <tr>\n",
              "      <th>Bench Right</th>\n",
              "      <td>953.55</td>\n",
              "    </tr>\n",
              "    <tr>\n",
              "      <th>Benches</th>\n",
              "      <td>10110.10</td>\n",
              "    </tr>\n",
              "    <tr>\n",
              "      <th>Elite Seats</th>\n",
              "      <td>550.00</td>\n",
              "    </tr>\n",
              "    <tr>\n",
              "      <th>GA PIT</th>\n",
              "      <td>850.00</td>\n",
              "    </tr>\n",
              "    <tr>\n",
              "      <th>N TERR R2</th>\n",
              "      <td>298.40</td>\n",
              "    </tr>\n",
              "    <tr>\n",
              "      <th>N TERRACE L1</th>\n",
              "      <td>261.38</td>\n",
              "    </tr>\n",
              "    <tr>\n",
              "      <th>N Terrace R2</th>\n",
              "      <td>328.36</td>\n",
              "    </tr>\n",
              "    <tr>\n",
              "      <th>North Terrace</th>\n",
              "      <td>1094.90</td>\n",
              "    </tr>\n",
              "    <tr>\n",
              "      <th>North Terrace Right 1</th>\n",
              "      <td>480.86</td>\n",
              "    </tr>\n",
              "    <tr>\n",
              "      <th>North Terrace Right 2</th>\n",
              "      <td>445.54</td>\n",
              "    </tr>\n",
              "    <tr>\n",
              "      <th>North Terrace Right 3</th>\n",
              "      <td>289.91</td>\n",
              "    </tr>\n",
              "    <tr>\n",
              "      <th>Pit General Admission</th>\n",
              "      <td>23143.76</td>\n",
              "    </tr>\n",
              "    <tr>\n",
              "      <th>Reserve A Center</th>\n",
              "      <td>30562.42</td>\n",
              "    </tr>\n",
              "    <tr>\n",
              "      <th>Reserve A Sides</th>\n",
              "      <td>41561.58</td>\n",
              "    </tr>\n",
              "    <tr>\n",
              "      <th>Reserve B Center</th>\n",
              "      <td>39446.88</td>\n",
              "    </tr>\n",
              "    <tr>\n",
              "      <th>Reserve B Sides</th>\n",
              "      <td>26872.98</td>\n",
              "    </tr>\n",
              "    <tr>\n",
              "      <th>Reserve C Center</th>\n",
              "      <td>15798.00</td>\n",
              "    </tr>\n",
              "    <tr>\n",
              "      <th>Reserve C Sides</th>\n",
              "      <td>26066.73</td>\n",
              "    </tr>\n",
              "    <tr>\n",
              "      <th>Reserved B Center</th>\n",
              "      <td>384.54</td>\n",
              "    </tr>\n",
              "    <tr>\n",
              "      <th>Reserved B Sides</th>\n",
              "      <td>357.58</td>\n",
              "    </tr>\n",
              "    <tr>\n",
              "      <th>S Terrace R3</th>\n",
              "      <td>670.20</td>\n",
              "    </tr>\n",
              "    <tr>\n",
              "      <th>Section B Left</th>\n",
              "      <td>3337.38</td>\n",
              "    </tr>\n",
              "    <tr>\n",
              "      <th>Section B Right</th>\n",
              "      <td>882.50</td>\n",
              "    </tr>\n",
              "    <tr>\n",
              "      <th>Section B Right Center</th>\n",
              "      <td>1766.15</td>\n",
              "    </tr>\n",
              "    <tr>\n",
              "      <th>Section C Left</th>\n",
              "      <td>455.00</td>\n",
              "    </tr>\n",
              "    <tr>\n",
              "      <th>Section C Left Center</th>\n",
              "      <td>1371.74</td>\n",
              "    </tr>\n",
              "    <tr>\n",
              "      <th>Section C Right</th>\n",
              "      <td>1723.99</td>\n",
              "    </tr>\n",
              "    <tr>\n",
              "      <th>Section C Right Center</th>\n",
              "      <td>1295.55</td>\n",
              "    </tr>\n",
              "    <tr>\n",
              "      <th>South Terrace</th>\n",
              "      <td>719.98</td>\n",
              "    </tr>\n",
              "    <tr>\n",
              "      <th>South Terrace Right 1</th>\n",
              "      <td>172.00</td>\n",
              "    </tr>\n",
              "    <tr>\n",
              "      <th>South Terrace Right 2</th>\n",
              "      <td>667.89</td>\n",
              "    </tr>\n",
              "    <tr>\n",
              "      <th>Terrace</th>\n",
              "      <td>42761.17</td>\n",
              "    </tr>\n",
              "    <tr>\n",
              "      <th>VIP Box</th>\n",
              "      <td>2044.49</td>\n",
              "    </tr>\n",
              "  </tbody>\n",
              "</table>\n",
              "</div>"
            ],
            "text/plain": [
              "                           Price\n",
              "Section                         \n",
              "A                         672.37\n",
              "A CENTER                  663.41\n",
              "A Center                  375.00\n",
              "AL                        447.40\n",
              "B Center                 1116.81\n",
              "BL                        498.96\n",
              "Bench Left                621.97\n",
              "Bench Right               953.55\n",
              "Benches                 10110.10\n",
              "Elite Seats               550.00\n",
              "GA PIT                    850.00\n",
              "N TERR R2                 298.40\n",
              "N TERRACE L1              261.38\n",
              "N Terrace R2              328.36\n",
              "North Terrace            1094.90\n",
              "North Terrace Right 1     480.86\n",
              "North Terrace Right 2     445.54\n",
              "North Terrace Right 3     289.91\n",
              "Pit General Admission   23143.76\n",
              "Reserve A Center        30562.42\n",
              "Reserve A Sides         41561.58\n",
              "Reserve B Center        39446.88\n",
              "Reserve B Sides         26872.98\n",
              "Reserve C Center        15798.00\n",
              "Reserve C Sides         26066.73\n",
              "Reserved B Center         384.54\n",
              "Reserved B Sides          357.58\n",
              "S Terrace R3              670.20\n",
              "Section B Left           3337.38\n",
              "Section B Right           882.50\n",
              "Section B Right Center   1766.15\n",
              "Section C Left            455.00\n",
              "Section C Left Center    1371.74\n",
              "Section C Right          1723.99\n",
              "Section C Right Center   1295.55\n",
              "South Terrace             719.98\n",
              "South Terrace Right 1     172.00\n",
              "South Terrace Right 2     667.89\n",
              "Terrace                 42761.17\n",
              "VIP Box                  2044.49"
            ]
          },
          "metadata": {
            "tags": []
          },
          "execution_count": 90
        }
      ]
    },
    {
      "cell_type": "code",
      "metadata": {
        "id": "7FMSFdA6j38q",
        "colab_type": "code",
        "colab": {
          "base_uri": "https://localhost:8080/",
          "height": 300
        },
        "outputId": "211259b4-fc11-4ba1-c108-162dcaf94fb3"
      },
      "source": [
        "section.plot()"
      ],
      "execution_count": 93,
      "outputs": [
        {
          "output_type": "execute_result",
          "data": {
            "text/plain": [
              "<matplotlib.axes._subplots.AxesSubplot at 0x7f0378ba4198>"
            ]
          },
          "metadata": {
            "tags": []
          },
          "execution_count": 93
        },
        {
          "output_type": "display_data",
          "data": {
            "image/png": "[encoded data removed]",
            "text/plain": [
              "<Figure size 432x288 with 1 Axes>"
            ]
          },
          "metadata": {
            "tags": []
          }
        }
      ]
    },
    {
      "cell_type": "code",
      "metadata": {
        "id": "kFiHVh6Uj9-O",
        "colab_type": "code",
        "colab": {}
      },
      "source": [
        ""
      ],
      "execution_count": 0,
      "outputs": []
    }
  ]
}